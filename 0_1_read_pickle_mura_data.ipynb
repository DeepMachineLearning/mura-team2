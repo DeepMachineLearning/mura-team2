{
 "cells": [
  {
   "cell_type": "code",
   "execution_count": 1,
   "metadata": {},
   "outputs": [],
   "source": [
    "%load_ext autotime"
   ]
  },
  {
   "cell_type": "code",
   "execution_count": 2,
   "metadata": {},
   "outputs": [
    {
     "name": "stdout",
     "output_type": "stream",
     "text": [
      "time: 4.32 s\n"
     ]
    }
   ],
   "source": [
    "from pathlib import Path\n",
    "import utils"
   ]
  },
  {
   "cell_type": "code",
   "execution_count": 3,
   "metadata": {},
   "outputs": [
    {
     "name": "stdout",
     "output_type": "stream",
     "text": [
      "time: 576 µs\n"
     ]
    }
   ],
   "source": [
    "mura_path = Path('data/MURA-v1.1')"
   ]
  },
  {
   "cell_type": "code",
   "execution_count": 4,
   "metadata": {},
   "outputs": [
    {
     "name": "stderr",
     "output_type": "stream",
     "text": [
      "INFO:utils.mura_utils:reading valid image paths\n",
      "100% (3197 of 3197) |####################| Elapsed Time: 0:00:16 Time:  0:00:16\n",
      "INFO:utils.mura_utils:stacking images\n",
      "INFO:utils.mura_utils:picking images\n",
      "INFO:utils.utils:saving to data/MURA-v1.1/x_valid.pkl\n",
      "INFO:utils.utils:saving to data/MURA-v1.1/y_valid.pkl\n"
     ]
    },
    {
     "name": "stdout",
     "output_type": "stream",
     "text": [
      "time: 18.2 s\n"
     ]
    }
   ],
   "source": [
    "utils.read_pickle_mura(mura_path, 'valid', 256)"
   ]
  },
  {
   "cell_type": "code",
   "execution_count": 5,
   "metadata": {},
   "outputs": [
    {
     "name": "stderr",
     "output_type": "stream",
     "text": [
      "INFO:utils.mura_utils:reading train image paths\n",
      "100% (36808 of 36808) |##################| Elapsed Time: 0:07:10 Time:  0:07:10\n",
      "INFO:utils.mura_utils:stacking images\n",
      "INFO:utils.mura_utils:picking images\n",
      "INFO:utils.utils:saving to data/MURA-v1.1/x_train.pkl\n",
      "INFO:utils.utils:saving to data/MURA-v1.1/y_train.pkl\n"
     ]
    },
    {
     "name": "stdout",
     "output_type": "stream",
     "text": [
      "time: 7min 28s\n"
     ]
    }
   ],
   "source": [
    "utils.read_pickle_mura(mura_path, 'train', 256)"
   ]
  },
  {
   "cell_type": "code",
   "execution_count": null,
   "metadata": {},
   "outputs": [],
   "source": []
  }
 ],
 "metadata": {
  "kernelspec": {
   "display_name": "Python 3",
   "language": "python",
   "name": "python3"
  },
  "language_info": {
   "codemirror_mode": {
    "name": "ipython",
    "version": 3
   },
   "file_extension": ".py",
   "mimetype": "text/x-python",
   "name": "python",
   "nbconvert_exporter": "python",
   "pygments_lexer": "ipython3",
   "version": "3.6.5"
  }
 },
 "nbformat": 4,
 "nbformat_minor": 2
}
