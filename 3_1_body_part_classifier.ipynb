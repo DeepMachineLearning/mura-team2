{
 "cells": [
  {
   "cell_type": "markdown",
   "metadata": {},
   "source": [
    "# Body part classifier to be used in ensemble model"
   ]
  },
  {
   "cell_type": "code",
   "execution_count": 1,
   "metadata": {},
   "outputs": [
    {
     "name": "stderr",
     "output_type": "stream",
     "text": [
      "Using TensorFlow backend.\n"
     ]
    }
   ],
   "source": [
    "%load_ext autotime\n",
    "\n",
    "import numpy as np\n",
    "import pandas as pd\n",
    "from matplotlib import pyplot as plt\n",
    "%matplotlib inline\n",
    "from keras.applications.densenet import DenseNet169\n",
    "from keras.utils import np_utils\n",
    "from keras.utils import to_categorical\n",
    "from keras.models import load_model\n",
    "from keras.preprocessing.image import ImageDataGenerator\n",
    "from keras import layers\n",
    "from keras import optimizers\n",
    "from keras import metrics\n",
    "from keras import models\n",
    "\n",
    "from keras.utils import plot_model, multi_gpu_model\n",
    "from IPython.display import SVG\n",
    "from keras.utils.vis_utils import model_to_dot\n",
    "\n",
    "\n",
    "from pathlib import Path\n",
    "import pickle\n",
    "\n",
    "import warnings\n",
    "warnings.filterwarnings('ignore')\n",
    "\n",
    "import tensorflow as tf\n",
    "from keras import backend as K\n",
    "config = tf.ConfigProto(allow_soft_placement=True)\n",
    "config.gpu_options.allow_growth=True\n",
    "sess = tf.Session(config=config)\n",
    "K.set_session(sess)\n",
    "\n",
    "import utils\n",
    "from sklearn.metrics import confusion_matrix"
   ]
  },
  {
   "cell_type": "code",
   "execution_count": 2,
   "metadata": {},
   "outputs": [
    {
     "name": "stdout",
     "output_type": "stream",
     "text": [
      "time: 4.95 ms\n"
     ]
    }
   ],
   "source": [
    "import tensorflow as tf\n",
    "from keras import backend as K\n",
    "config = tf.ConfigProto()\n",
    "config.gpu_options.allow_growth=True\n",
    "sess = tf.Session(config=config)\n",
    "K.set_session(sess)"
   ]
  },
  {
   "cell_type": "code",
   "execution_count": 3,
   "metadata": {},
   "outputs": [
    {
     "name": "stdout",
     "output_type": "stream",
     "text": [
      "time: 2.04 ms\n"
     ]
    }
   ],
   "source": [
    "import logging\n",
    "\n",
    "log = logging.getLogger(__name__)\n",
    "logging.basicConfig(level=logging.INFO)"
   ]
  },
  {
   "cell_type": "code",
   "execution_count": 4,
   "metadata": {},
   "outputs": [
    {
     "name": "stdout",
     "output_type": "stream",
     "text": [
      "time: 1.76 ms\n"
     ]
    }
   ],
   "source": [
    "def reshape(x):\n",
    "    xs = x.shape\n",
    "    return np.reshape(x, (xs[0], xs[1], xs[2], 1))"
   ]
  },
  {
   "cell_type": "code",
   "execution_count": 5,
   "metadata": {},
   "outputs": [
    {
     "name": "stderr",
     "output_type": "stream",
     "text": [
      "INFO:utils.utils:loading data/MURA-v1.1/x_train.pkl\n",
      "INFO:utils.utils:loading data/MURA-v1.1/y_train.pkl\n",
      "INFO:utils.utils:loading data/MURA-v1.1/x_valid.pkl\n",
      "INFO:utils.utils:loading data/MURA-v1.1/y_valid.pkl\n"
     ]
    },
    {
     "name": "stdout",
     "output_type": "stream",
     "text": [
      "(36808, 256, 256, 1)\n",
      "time: 6.07 s\n"
     ]
    }
   ],
   "source": [
    "x_train, y_train, x_test, y_test = utils.read_mura_pickle()\n",
    "x_train = reshape(utils.normalize_pixels(x_train))\n",
    "x_test = reshape(utils.normalize_pixels(x_test))\n",
    "\n",
    "print(x_train.shape)\n",
    "size = x_train.shape[1]"
   ]
  },
  {
   "cell_type": "code",
   "execution_count": 6,
   "metadata": {},
   "outputs": [
    {
     "name": "stdout",
     "output_type": "stream",
     "text": [
      "time: 14.9 ms\n"
     ]
    }
   ],
   "source": [
    "with Path('./data/MURA-v1.1/train_groups.pkl').open('rb') as pkl_file:\n",
    "    train_groups = pickle.load(pkl_file)\n",
    "with Path('./data/MURA-v1.1/valid_groups.pkl').open('rb') as pkl_file:\n",
    "    valid_groups = pickle.load(pkl_file)"
   ]
  },
  {
   "cell_type": "code",
   "execution_count": 7,
   "metadata": {},
   "outputs": [
    {
     "data": {
      "text/plain": [
       "['shoulder', 'humerus', 'finger', 'elbow', 'wrist', 'forearm', 'hand']"
      ]
     },
     "execution_count": 7,
     "metadata": {},
     "output_type": "execute_result"
    },
    {
     "name": "stdout",
     "output_type": "stream",
     "text": [
      "time: 5.31 ms\n"
     ]
    }
   ],
   "source": [
    "bodyparts = list(train_groups['body_part'].drop_duplicates())\n",
    "bodyparts"
   ]
  },
  {
   "cell_type": "code",
   "execution_count": 8,
   "metadata": {},
   "outputs": [
    {
     "name": "stdout",
     "output_type": "stream",
     "text": [
      "time: 896 µs\n"
     ]
    }
   ],
   "source": [
    "def target_bodypart_label(groups_df, bodyparts):\n",
    "    for bp in bodyparts:\n",
    "        groups_df.loc[:, bp] = groups_df['body_part'].str.contains(bp).astype(int)\n",
    "    \n",
    "    return groups_df[bodyparts].values"
   ]
  },
  {
   "cell_type": "code",
   "execution_count": 9,
   "metadata": {},
   "outputs": [
    {
     "name": "stdout",
     "output_type": "stream",
     "text": [
      "time: 131 ms\n"
     ]
    }
   ],
   "source": [
    "y_train = target_bodypart_label(train_groups, bodyparts)\n",
    "y_test = target_bodypart_label(valid_groups, bodyparts)"
   ]
  },
  {
   "cell_type": "code",
   "execution_count": 10,
   "metadata": {},
   "outputs": [
    {
     "name": "stdout",
     "output_type": "stream",
     "text": [
      "time: 1.79 ms\n"
     ]
    }
   ],
   "source": [
    "datagen = ImageDataGenerator(\n",
    "    rotation_range=45,\n",
    "    width_shift_range=0.2,\n",
    "    height_shift_range=0.2,\n",
    "    zoom_range=[0.8, 1.2],\n",
    "    fill_mode = 'constant',\n",
    "    cval=0,\n",
    "    horizontal_flip=True,\n",
    "    vertical_flip=True)"
   ]
  },
  {
   "cell_type": "code",
   "execution_count": 11,
   "metadata": {},
   "outputs": [
    {
     "name": "stdout",
     "output_type": "stream",
     "text": [
      "time: 4.1 s\n"
     ]
    }
   ],
   "source": [
    "datagen.fit(x_train)"
   ]
  },
  {
   "cell_type": "raw",
   "metadata": {},
   "source": [
    "with tf.device('/GPU:1'):\n",
    "    model = DenseNet169(input_shape=(256, 256, 1), classes=7, weights=None)"
   ]
  },
  {
   "cell_type": "code",
   "execution_count": null,
   "metadata": {},
   "outputs": [],
   "source": []
  },
  {
   "cell_type": "code",
   "execution_count": 12,
   "metadata": {},
   "outputs": [
    {
     "name": "stdout",
     "output_type": "stream",
     "text": [
      "time: 2.58 ms\n"
     ]
    }
   ],
   "source": [
    "starting_epoch = 121\n",
    "train_round = 0\n",
    "batch_size = 32\n",
    "epochs_per_eval = 10\n",
    "epochs_per_save = 30\n",
    "total_epochs = 420\n",
    "optimizer = 'sgd'# 'adam'\n",
    "lr = 0.001\n",
    "history = {'loss': [], 'accuracy': [], 'valid_accuracy': []}\n",
    "model_name = '3_1_body_part_classifier_dense169'"
   ]
  },
  {
   "cell_type": "code",
   "execution_count": 13,
   "metadata": {},
   "outputs": [
    {
     "name": "stdout",
     "output_type": "stream",
     "text": [
      "time: 51.1 s\n"
     ]
    }
   ],
   "source": [
    "with tf.device('/GPU:1'):\n",
    "    model = models.load_model(f'./trained_models/3_1_body_part_classifier_dense169_{starting_epoch}.h5')"
   ]
  },
  {
   "cell_type": "code",
   "execution_count": 14,
   "metadata": {},
   "outputs": [
    {
     "name": "stdout",
     "output_type": "stream",
     "text": [
      "time: 2.88 ms\n"
     ]
    }
   ],
   "source": [
    "with open(f'./trained_models/{model_name}_history.pkl', 'rb') as pkl_file:\n",
    "    history = pickle.load(pkl_file)"
   ]
  },
  {
   "cell_type": "code",
   "execution_count": null,
   "metadata": {},
   "outputs": [],
   "source": [
    "while (train_round+1) * epochs_per_eval + starting_epoch <= total_epochs:\n",
    "    log.info(f'executing epochs {train_round * epochs_per_eval + 1 + starting_epoch}-{(train_round+1) * epochs_per_eval + starting_epoch}')\n",
    "    \n",
    "    if train_round * epochs_per_eval + 1 + starting_epoch >= 10:\n",
    "        if np.mean(history['loss'][-10:-5]) < np.mean(history['loss'][-5:]): # if no improvements in 5 epochs\n",
    "            if optimizer == 'adam':\n",
    "                log.info(f'switching to SGD with lr={lr}')\n",
    "                optimizer = 'sgd'\n",
    "            else:\n",
    "                log.info(f'reducing SGD learn rate from {lr} to {lr * 0.8}')\n",
    "                lr = lr * 0.8\n",
    "            opt = optimizers.SGD(lr=lr, momentum=0.9, nesterov=True)\n",
    "        else:\n",
    "            if optimizer == 'adam':\n",
    "                opt = optimizers.Adam(lr=lr)\n",
    "            else:\n",
    "                opt = optimizers.SGD(lr=lr, momentum=0.9, nesterov=True)\n",
    "    else:\n",
    "        opt = optimizers.Adam(lr=lr)\n",
    "    \n",
    "    \n",
    "    model.compile(\n",
    "        loss='categorical_crossentropy',\n",
    "        optimizer=opt,\n",
    "        metrics=[metrics.categorical_accuracy])\n",
    "    \n",
    "    log.info(f'Training with {optimizer} with lr={lr}')\n",
    "    model.fit_generator(datagen.flow(x_train, y_train, batch_size=batch_size),\n",
    "                           steps_per_epoch = len(x_train) / batch_size, epochs=epochs_per_eval, verbose=2)\n",
    "    \n",
    "    history['loss'].extend(model.history.history['loss'])\n",
    "    history['accuracy'].extend(model.history.history['categorical_accuracy'])\n",
    "    \n",
    "    y_hat = model.predict(x_test)\n",
    "    true_label = np.argmax(y_test, axis=1)\n",
    "    pred_label = np.argmax(y_hat, axis=1)\n",
    "    \n",
    "    history['valid_accuracy'].append((true_label == pred_label).sum() / pred_label.shape[0])\n",
    "    \n",
    "    log.info(f\"Valid Accuracy: {history['valid_accuracy'][-1]}\")\n",
    "    \n",
    "    cur_epoch = (train_round+1) * epochs_per_eval\n",
    "    if cur_epoch % epochs_per_save == 0:\n",
    "        log.info(f'Saving Model to trained_models/3_1_body_part_classifier_dense169_{cur_epoch + starting_epoch}.h5...')\n",
    "        model.save(f'./trained_models/3_1_body_part_classifier_dense169_{cur_epoch + starting_epoch}.h5')\n",
    "    \n",
    "    log.info('Saving evaluation metrics history...')\n",
    "    with open('./trained_models/3_1_body_part_classifier_dense169_history.pkl', 'wb') as pkl_file:\n",
    "        pickle.dump(history, pkl_file)\n",
    "    \n",
    "    train_round += 1"
   ]
  },
  {
   "cell_type": "code",
   "execution_count": 16,
   "metadata": {},
   "outputs": [
    {
     "data": {
      "image/png": "[encoded data removed]",
      "text/plain": [
       "<Figure size 432x288 with 1 Axes>"
      ]
     },
     "metadata": {},
     "output_type": "display_data"
    },
    {
     "data": {
      "image/png": "[encoded data removed]",
      "text/plain": [
       "<Figure size 432x288 with 1 Axes>"
      ]
     },
     "metadata": {},
     "output_type": "display_data"
    },
    {
     "name": "stdout",
     "output_type": "stream",
     "text": [
      "time: 243 ms\n"
     ]
    }
   ],
   "source": [
    "# Plots for epochs 0-151\n",
    "train_metrics = ['loss', 'accuracy']\n",
    "validation_metrics = ['valid_accuracy']\n",
    "for metric in train_metrics:\n",
    "    plt.plot(history[metric])\n",
    "plt.title('Training set metrics per epoch')\n",
    "plt.legend(train_metrics)\n",
    "plt.show() \n",
    "\n",
    "for metric in validation_metrics:\n",
    "    plt.plot(history[metric])\n",
    "plt.title(f'Validation set metrics per {epochs_per_eval}')\n",
    "plt.legend(validation_metrics)\n",
    "plt.show() "
   ]
  },
  {
   "cell_type": "markdown",
   "metadata": {},
   "source": [
    "# Evaluate"
   ]
  },
  {
   "cell_type": "code",
   "execution_count": 9,
   "metadata": {},
   "outputs": [
    {
     "name": "stdout",
     "output_type": "stream",
     "text": [
      "time: 32 s\n"
     ]
    }
   ],
   "source": [
    "y_hat = model.predict(x_test)\n",
    "true_label = np.argmax(y_test, axis=1)\n",
    "pred_label = np.argmax(y_hat, axis=1)"
   ]
  },
  {
   "cell_type": "code",
   "execution_count": 17,
   "metadata": {},
   "outputs": [
    {
     "data": {
      "image/png": "[encoded data removed]",
      "text/plain": [
       "<Figure size 432x288 with 2 Axes>"
      ]
     },
     "metadata": {},
     "output_type": "display_data"
    },
    {
     "name": "stdout",
     "output_type": "stream",
     "text": [
      "time: 241 ms\n"
     ]
    }
   ],
   "source": [
    "utils.plot_confusion_matrix(true_label, pred_label, classes=bodyparts)"
   ]
  },
  {
   "cell_type": "code",
   "execution_count": 18,
   "metadata": {},
   "outputs": [
    {
     "name": "stdout",
     "output_type": "stream",
     "text": [
      "time: 2.52 ms\n"
     ]
    }
   ],
   "source": [
    "def kappa(true_label, pred_label, num_classes):\n",
    "    cm = confusion_matrix(true_label, pred_label)\n",
    "    N = cm.sum()\n",
    "    p_observed = np.sum([cm[i,i] for i in range(num_classes)]) / N\n",
    "    p_expected = np.sum([cm[i, :].sum() * cm[:, i].sum() / N**2 for i in range(num_classes)])\n",
    "    return (p_observed - p_expected) / (1 - p_expected)"
   ]
  },
  {
   "cell_type": "code",
   "execution_count": 19,
   "metadata": {},
   "outputs": [
    {
     "data": {
      "text/plain": [
       "0.9567257182965725"
      ]
     },
     "execution_count": 19,
     "metadata": {},
     "output_type": "execute_result"
    },
    {
     "name": "stdout",
     "output_type": "stream",
     "text": [
      "time: 5.64 ms\n"
     ]
    }
   ],
   "source": [
    "kappa(true_label, pred_label, 7)"
   ]
  },
  {
   "cell_type": "code",
   "execution_count": null,
   "metadata": {},
   "outputs": [],
   "source": []
  }
 ],
 "metadata": {
  "kernelspec": {
   "display_name": "Python 3",
   "language": "python",
   "name": "python3"
  },
  "language_info": {
   "codemirror_mode": {
    "name": "ipython",
    "version": 3
   },
   "file_extension": ".py",
   "mimetype": "text/x-python",
   "name": "python",
   "nbconvert_exporter": "python",
   "pygments_lexer": "ipython3",
   "version": "3.6.5"
  }
 },
 "nbformat": 4,
 "nbformat_minor": 2
}
