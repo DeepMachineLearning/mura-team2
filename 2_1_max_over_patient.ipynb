{
 "cells": [
  {
   "cell_type": "markdown",
   "metadata": {},
   "source": [
    "# Trying with using max over outputs"
   ]
  },
  {
   "cell_type": "code",
   "execution_count": 1,
   "metadata": {},
   "outputs": [],
   "source": [
    "%load_ext autotime"
   ]
  },
  {
   "cell_type": "code",
   "execution_count": 2,
   "metadata": {},
   "outputs": [
    {
     "name": "stderr",
     "output_type": "stream",
     "text": [
      "Using TensorFlow backend.\n"
     ]
    },
    {
     "name": "stdout",
     "output_type": "stream",
     "text": [
      "time: 1.21 s\n"
     ]
    }
   ],
   "source": [
    "import numpy as np\n",
    "import pandas as pd\n",
    "from matplotlib import pyplot as plt\n",
    "%matplotlib inline\n",
    "from keras.applications.densenet import DenseNet121\n",
    "from keras.utils import np_utils\n",
    "from keras.utils import to_categorical\n",
    "from keras.models import load_model\n",
    "from keras.preprocessing.image import ImageDataGenerator\n",
    "from keras import layers\n",
    "from keras import optimizers\n",
    "from keras import metrics\n",
    "from keras import models\n",
    "\n",
    "from keras.utils import plot_model\n",
    "from IPython.display import SVG\n",
    "from keras.utils.vis_utils import model_to_dot\n",
    "\n",
    "\n",
    "from pathlib import Path\n",
    "import pickle\n",
    "\n",
    "import warnings\n",
    "warnings.filterwarnings('ignore')"
   ]
  },
  {
   "cell_type": "code",
   "execution_count": 3,
   "metadata": {},
   "outputs": [
    {
     "name": "stdout",
     "output_type": "stream",
     "text": [
      "time: 653 ms\n"
     ]
    }
   ],
   "source": [
    "import tensorflow as tf\n",
    "from keras import backend as K\n",
    "config = tf.ConfigProto()\n",
    "config.gpu_options.allow_growth=True\n",
    "sess = tf.Session(config=config)\n",
    "K.set_session(sess)"
   ]
  },
  {
   "cell_type": "code",
   "execution_count": 4,
   "metadata": {},
   "outputs": [
    {
     "name": "stdout",
     "output_type": "stream",
     "text": [
      "time: 4.19 s\n"
     ]
    }
   ],
   "source": [
    "import utils # importing from our utils functions"
   ]
  },
  {
   "cell_type": "code",
   "execution_count": 5,
   "metadata": {},
   "outputs": [
    {
     "name": "stdout",
     "output_type": "stream",
     "text": [
      "time: 2.5 ms\n"
     ]
    }
   ],
   "source": [
    "from utils.paralleldensenet121 import ParallelDenseNet121"
   ]
  },
  {
   "cell_type": "code",
   "execution_count": 6,
   "metadata": {},
   "outputs": [
    {
     "name": "stdout",
     "output_type": "stream",
     "text": [
      "time: 1.29 ms\n"
     ]
    }
   ],
   "source": [
    "from keras.layers import merge"
   ]
  },
  {
   "cell_type": "code",
   "execution_count": 7,
   "metadata": {},
   "outputs": [
    {
     "name": "stdout",
     "output_type": "stream",
     "text": [
      "time: 809 µs\n"
     ]
    }
   ],
   "source": [
    "num_parallel = 2"
   ]
  },
  {
   "cell_type": "raw",
   "metadata": {},
   "source": [
    "parallel_dense = ParallelDenseNet121(num_inputs=num_parallel, classes=1, nchannels=1, input_size=256, num_gpu=2)"
   ]
  },
  {
   "cell_type": "raw",
   "metadata": {},
   "source": [
    "plot_model(parallel_dense)"
   ]
  },
  {
   "cell_type": "raw",
   "metadata": {},
   "source": [
    "parallel_dense.summary()"
   ]
  },
  {
   "cell_type": "code",
   "execution_count": 8,
   "metadata": {},
   "outputs": [
    {
     "name": "stderr",
     "output_type": "stream",
     "text": [
      "INFO:utils.utils:loading data/MURA-v1.1/x_train.pkl\n",
      "INFO:utils.utils:loading data/MURA-v1.1/y_train.pkl\n",
      "INFO:utils.utils:loading data/MURA-v1.1/x_valid.pkl\n",
      "INFO:utils.utils:loading data/MURA-v1.1/y_valid.pkl\n"
     ]
    },
    {
     "name": "stdout",
     "output_type": "stream",
     "text": [
      "time: 2.29 s\n"
     ]
    }
   ],
   "source": [
    "x_train, y_train, x_test, y_test = utils.read_mura_pickle()"
   ]
  },
  {
   "cell_type": "code",
   "execution_count": 9,
   "metadata": {},
   "outputs": [
    {
     "name": "stdout",
     "output_type": "stream",
     "text": [
      "time: 4.6 s\n"
     ]
    }
   ],
   "source": [
    "x_train = utils.normalize_pixels(x_train)\n",
    "x_test = utils.normalize_pixels(x_test)"
   ]
  },
  {
   "cell_type": "code",
   "execution_count": 10,
   "metadata": {},
   "outputs": [
    {
     "data": {
      "text/plain": [
       "(36808, 256, 256)"
      ]
     },
     "execution_count": 10,
     "metadata": {},
     "output_type": "execute_result"
    },
    {
     "name": "stdout",
     "output_type": "stream",
     "text": [
      "time: 2.83 ms\n"
     ]
    }
   ],
   "source": [
    "x_train.shape"
   ]
  },
  {
   "cell_type": "code",
   "execution_count": 11,
   "metadata": {},
   "outputs": [
    {
     "name": "stdout",
     "output_type": "stream",
     "text": [
      "time: 5.07 ms\n"
     ]
    }
   ],
   "source": [
    "size = x_train.shape[1]"
   ]
  },
  {
   "cell_type": "code",
   "execution_count": 12,
   "metadata": {},
   "outputs": [
    {
     "name": "stdout",
     "output_type": "stream",
     "text": [
      "time: 15.1 ms\n"
     ]
    }
   ],
   "source": [
    "with Path('./data/MURA-v1.1/train_groups.pkl').open('rb') as pkl_file:\n",
    "    train_groups = pickle.load(pkl_file)\n",
    "with Path('./data/MURA-v1.1/valid_groups.pkl').open('rb') as pkl_file:\n",
    "    valid_groups = pickle.load(pkl_file)"
   ]
  },
  {
   "cell_type": "code",
   "execution_count": 13,
   "metadata": {},
   "outputs": [
    {
     "name": "stdout",
     "output_type": "stream",
     "text": [
      "time: 98.6 ms\n"
     ]
    }
   ],
   "source": [
    "train_img_count = train_groups.groupby(['body_part', 'patient_id', 'study_id'])['image_id'].max().reset_index()\n",
    "train_enough_imgs = train_img_count[train_img_count.image_id.gt(1)].drop('image_id', axis=1)\n",
    "train_groups_enough_imgs = pd.merge(\n",
    "    train_enough_imgs.set_index(['body_part', 'patient_id', 'study_id']), \n",
    "         train_groups.reset_index().set_index(['body_part', 'patient_id', 'study_id']), left_index=True, right_index=True)"
   ]
  },
  {
   "cell_type": "code",
   "execution_count": 14,
   "metadata": {},
   "outputs": [
    {
     "data": {
      "text/html": [
       "<div>\n",
       "<style scoped>\n",
       "    .dataframe tbody tr th:only-of-type {\n",
       "        vertical-align: middle;\n",
       "    }\n",
       "\n",
       "    .dataframe tbody tr th {\n",
       "        vertical-align: top;\n",
       "    }\n",
       "\n",
       "    .dataframe thead th {\n",
       "        text-align: right;\n",
       "    }\n",
       "</style>\n",
       "<table border=\"1\" class=\"dataframe\">\n",
       "  <thead>\n",
       "    <tr style=\"text-align: right;\">\n",
       "      <th></th>\n",
       "      <th>body_part</th>\n",
       "      <th>patient_id</th>\n",
       "      <th>study_id</th>\n",
       "      <th>index</th>\n",
       "    </tr>\n",
       "  </thead>\n",
       "  <tbody>\n",
       "    <tr>\n",
       "      <th>0</th>\n",
       "      <td>shoulder</td>\n",
       "      <td>1</td>\n",
       "      <td>1</td>\n",
       "      <td>0</td>\n",
       "    </tr>\n",
       "    <tr>\n",
       "      <th>1</th>\n",
       "      <td>shoulder</td>\n",
       "      <td>2</td>\n",
       "      <td>1</td>\n",
       "      <td>3</td>\n",
       "    </tr>\n",
       "    <tr>\n",
       "      <th>2</th>\n",
       "      <td>shoulder</td>\n",
       "      <td>3</td>\n",
       "      <td>1</td>\n",
       "      <td>6</td>\n",
       "    </tr>\n",
       "    <tr>\n",
       "      <th>3</th>\n",
       "      <td>shoulder</td>\n",
       "      <td>4</td>\n",
       "      <td>1</td>\n",
       "      <td>9</td>\n",
       "    </tr>\n",
       "    <tr>\n",
       "      <th>4</th>\n",
       "      <td>shoulder</td>\n",
       "      <td>6</td>\n",
       "      <td>1</td>\n",
       "      <td>14</td>\n",
       "    </tr>\n",
       "  </tbody>\n",
       "</table>\n",
       "</div>"
      ],
      "text/plain": [
       "  body_part  patient_id  study_id  index\n",
       "0  shoulder           1         1      0\n",
       "1  shoulder           2         1      3\n",
       "2  shoulder           3         1      6\n",
       "3  shoulder           4         1      9\n",
       "4  shoulder           6         1     14"
      ]
     },
     "execution_count": 14,
     "metadata": {},
     "output_type": "execute_result"
    },
    {
     "name": "stdout",
     "output_type": "stream",
     "text": [
      "time: 29.6 ms\n"
     ]
    }
   ],
   "source": [
    "n_studies_train = train_groups_enough_imgs.groupby(['body_part', 'patient_id', 'study_id'])[0].count().count()\n",
    "train_indices = train_groups_enough_imgs.reset_index().groupby(['body_part', 'patient_id', 'study_id'])['index'].min().reset_index().sort_values('index').reset_index(drop=True)\n",
    "train_indices.head()"
   ]
  },
  {
   "cell_type": "code",
   "execution_count": 15,
   "metadata": {},
   "outputs": [
    {
     "data": {
      "text/html": [
       "<div>\n",
       "<style scoped>\n",
       "    .dataframe tbody tr th:only-of-type {\n",
       "        vertical-align: middle;\n",
       "    }\n",
       "\n",
       "    .dataframe tbody tr th {\n",
       "        vertical-align: top;\n",
       "    }\n",
       "\n",
       "    .dataframe thead th {\n",
       "        text-align: right;\n",
       "    }\n",
       "</style>\n",
       "<table border=\"1\" class=\"dataframe\">\n",
       "  <thead>\n",
       "    <tr style=\"text-align: right;\">\n",
       "      <th></th>\n",
       "      <th>body_part</th>\n",
       "      <th>patient_id</th>\n",
       "      <th>study_id</th>\n",
       "      <th>index</th>\n",
       "    </tr>\n",
       "  </thead>\n",
       "  <tbody>\n",
       "    <tr>\n",
       "      <th>0</th>\n",
       "      <td>wrist</td>\n",
       "      <td>11185</td>\n",
       "      <td>1</td>\n",
       "      <td>0</td>\n",
       "    </tr>\n",
       "    <tr>\n",
       "      <th>1</th>\n",
       "      <td>wrist</td>\n",
       "      <td>11186</td>\n",
       "      <td>1</td>\n",
       "      <td>4</td>\n",
       "    </tr>\n",
       "    <tr>\n",
       "      <th>2</th>\n",
       "      <td>wrist</td>\n",
       "      <td>11186</td>\n",
       "      <td>2</td>\n",
       "      <td>6</td>\n",
       "    </tr>\n",
       "    <tr>\n",
       "      <th>3</th>\n",
       "      <td>wrist</td>\n",
       "      <td>11186</td>\n",
       "      <td>3</td>\n",
       "      <td>9</td>\n",
       "    </tr>\n",
       "    <tr>\n",
       "      <th>4</th>\n",
       "      <td>wrist</td>\n",
       "      <td>11188</td>\n",
       "      <td>1</td>\n",
       "      <td>13</td>\n",
       "    </tr>\n",
       "  </tbody>\n",
       "</table>\n",
       "</div>"
      ],
      "text/plain": [
       "  body_part  patient_id  study_id  index\n",
       "0     wrist       11185         1      0\n",
       "1     wrist       11186         1      4\n",
       "2     wrist       11186         2      6\n",
       "3     wrist       11186         3      9\n",
       "4     wrist       11188         1     13"
      ]
     },
     "execution_count": 15,
     "metadata": {},
     "output_type": "execute_result"
    },
    {
     "name": "stdout",
     "output_type": "stream",
     "text": [
      "time: 32.8 ms\n"
     ]
    }
   ],
   "source": [
    "valid_img_count = valid_groups.groupby(['body_part', 'patient_id', 'study_id'])['image_id'].max().reset_index()\n",
    "valid_enough_imgs = valid_img_count[valid_img_count.image_id.gt(1)].drop('image_id', axis=1)\n",
    "valid_groups_enough_imgs = pd.merge(\n",
    "    valid_enough_imgs.set_index(['body_part', 'patient_id', 'study_id']), \n",
    "         valid_groups.reset_index().set_index(['body_part', 'patient_id', 'study_id']), left_index=True, right_index=True)\n",
    "\n",
    "n_studies_valid = valid_groups_enough_imgs.groupby(['body_part', 'patient_id', 'study_id'])[0].count().count()\n",
    "valid_indices = valid_groups_enough_imgs.reset_index().groupby(['body_part', 'patient_id', 'study_id'])['index'].min().reset_index().sort_values('index').reset_index(drop=True)\n",
    "valid_indices.head()"
   ]
  },
  {
   "cell_type": "code",
   "execution_count": 16,
   "metadata": {},
   "outputs": [
    {
     "name": "stdout",
     "output_type": "stream",
     "text": [
      "time: 1.98 ms\n"
     ]
    }
   ],
   "source": [
    "x_train_study = np.zeros(shape=(n_studies_train, size, size, num_parallel))\n",
    "y_train_study = np.zeros(shape=(n_studies_train,))\n",
    "x_valid_study = np.zeros(shape=(n_studies_valid, size, size, num_parallel))\n",
    "y_valid_study = np.zeros(shape=(n_studies_valid,))"
   ]
  },
  {
   "cell_type": "code",
   "execution_count": 17,
   "metadata": {},
   "outputs": [
    {
     "name": "stdout",
     "output_type": "stream",
     "text": [
      "(12326, 256, 256, 2)\n",
      "(12326,)\n",
      "(1098, 256, 256, 2)\n",
      "(1098,)\n",
      "time: 1.64 ms\n"
     ]
    }
   ],
   "source": [
    "print(x_train_study.shape)\n",
    "print(y_train_study.shape)\n",
    "print(x_valid_study.shape)\n",
    "print(y_valid_study.shape)"
   ]
  },
  {
   "cell_type": "code",
   "execution_count": 18,
   "metadata": {},
   "outputs": [
    {
     "name": "stdout",
     "output_type": "stream",
     "text": [
      "time: 8 s\n"
     ]
    }
   ],
   "source": [
    "for i in range(n_studies_train):\n",
    "    cur_index = train_indices.iloc[i]['index']\n",
    "    if i < n_studies_train - 1:\n",
    "        next_study_index = train_indices.iloc[i+1]['index']\n",
    "    else:\n",
    "        next_study_index = x_train.shape[0]\n",
    "    for j in range(num_parallel):\n",
    "        if cur_index < next_study_index:\n",
    "            x_train_study[i, :, :, j] = x_train[cur_index, :, :]\n",
    "            y_train_study[i] = y_train[cur_index]\n",
    "        else:\n",
    "            break\n",
    "        cur_index = cur_index + 1"
   ]
  },
  {
   "cell_type": "code",
   "execution_count": 19,
   "metadata": {},
   "outputs": [
    {
     "name": "stdout",
     "output_type": "stream",
     "text": [
      "time: 697 ms\n"
     ]
    }
   ],
   "source": [
    "for i in range(n_studies_valid):\n",
    "    cur_index = valid_indices.iloc[i]['index']\n",
    "    if i < n_studies_valid - 1:\n",
    "        next_study_index = valid_indices.iloc[i+1]['index']\n",
    "    else:\n",
    "        next_study_index = x_test.shape[0]\n",
    "    for j in range(num_parallel):\n",
    "        if cur_index < next_study_index:\n",
    "            x_valid_study[i, :, :, j] = x_test[cur_index, :, :]\n",
    "            y_valid_study[i] = y_test[cur_index]\n",
    "        else:\n",
    "            break\n",
    "        cur_index = cur_index + 1"
   ]
  },
  {
   "cell_type": "code",
   "execution_count": 20,
   "metadata": {},
   "outputs": [
    {
     "data": {
      "text/plain": [
       "140"
      ]
     },
     "execution_count": 20,
     "metadata": {},
     "output_type": "execute_result"
    },
    {
     "name": "stdout",
     "output_type": "stream",
     "text": [
      "time: 444 ms\n"
     ]
    }
   ],
   "source": [
    "del x_train, y_train, x_test, y_test\n",
    "import gc; gc.collect()"
   ]
  },
  {
   "cell_type": "markdown",
   "metadata": {},
   "source": [
    "Double checking if images are correct"
   ]
  },
  {
   "cell_type": "code",
   "execution_count": 21,
   "metadata": {},
   "outputs": [
    {
     "name": "stdout",
     "output_type": "stream",
     "text": [
      "1.0\n"
     ]
    },
    {
     "data": {
      "image/png": "[encoded data removed]",
      "text/plain": [
       "<Figure size 432x288 with 1 Axes>"
      ]
     },
     "metadata": {},
     "output_type": "display_data"
    },
    {
     "data": {
      "image/png": "[encoded data removed]",
      "text/plain": [
       "<Figure size 432x288 with 1 Axes>"
      ]
     },
     "metadata": {},
     "output_type": "display_data"
    },
    {
     "name": "stdout",
     "output_type": "stream",
     "text": [
      "time: 207 ms\n"
     ]
    }
   ],
   "source": [
    "print(y_train_study[0])\n",
    "for j in range(num_parallel):\n",
    "    plt.imshow(x_train_study[0, :, :, j], cmap='gray')\n",
    "    plt.show()"
   ]
  },
  {
   "cell_type": "code",
   "execution_count": 22,
   "metadata": {},
   "outputs": [
    {
     "name": "stdout",
     "output_type": "stream",
     "text": [
      "time: 4.45 ms\n"
     ]
    }
   ],
   "source": [
    "from sklearn.metrics import confusion_matrix\n",
    "\n",
    "class MURAMetrics():\n",
    "    \n",
    "    def __init__(self, true_label, pred_label):\n",
    "        assert true_label.shape[0] == pred_label.shape[0], (\n",
    "            'true_label and pred_laben must have the same length!')\n",
    "        self.y = true_label\n",
    "        self.yhat = pred_label\n",
    "        self.N = true_label.shape[0]\n",
    "        self.cm = confusion_matrix(true_label, pred_label)\n",
    "        \n",
    "    def accuracy(self):\n",
    "        return (self.cm[0, 0] + self.cm[1, 1]) / self.N\n",
    "\n",
    "    def kappa(self):\n",
    "        p_observed = self.accuracy()\n",
    "        p_expected = (\n",
    "            self.cm[1, :].sum() * self.cm[:, 1].sum() \n",
    "            + self.cm[0, :].sum() * self.cm[:, 0].sum()) / self.N**2\n",
    "        return (p_observed - p_expected) / (1 - p_expected)\n",
    "    \n",
    "    def precision_and_recall(self):\n",
    "        return {\n",
    "            'precision': self.cm[1, 1] / self.cm[:, 1].sum(),\n",
    "            'recall': self.cm[1, 1] / self.cm[1, :].sum()\n",
    "        }"
   ]
  },
  {
   "cell_type": "markdown",
   "metadata": {},
   "source": [
    "# Train Submodel"
   ]
  },
  {
   "cell_type": "code",
   "execution_count": 14,
   "metadata": {},
   "outputs": [
    {
     "name": "stdout",
     "output_type": "stream",
     "text": [
      "time: 4.05 ms\n"
     ]
    }
   ],
   "source": [
    "datagen = ImageDataGenerator(\n",
    "    rotation_range=360,\n",
    "    width_shift_range=0.2,\n",
    "    height_shift_range=0.2,\n",
    "    shear_range=0.2,\n",
    "    zoom_range=[1, 1.2],\n",
    "    fill_mode = 'constant',\n",
    "    cval=0,\n",
    "    horizontal_flip=True,\n",
    "    vertical_flip=True)"
   ]
  },
  {
   "cell_type": "code",
   "execution_count": 15,
   "metadata": {},
   "outputs": [
    {
     "name": "stdout",
     "output_type": "stream",
     "text": [
      "time: 2.65 ms\n"
     ]
    }
   ],
   "source": [
    "x_train = x_train.reshape(x_train.shape[0], size, size, 1)\n",
    "x_test = x_test.reshape(x_test.shape[0], size, size, 1)"
   ]
  },
  {
   "cell_type": "code",
   "execution_count": 16,
   "metadata": {},
   "outputs": [
    {
     "name": "stdout",
     "output_type": "stream",
     "text": [
      "time: 4.25 s\n"
     ]
    }
   ],
   "source": [
    "datagen.fit(x_train)"
   ]
  },
  {
   "cell_type": "code",
   "execution_count": 38,
   "metadata": {},
   "outputs": [
    {
     "name": "stdout",
     "output_type": "stream",
     "text": [
      "time: 3.58 ms\n"
     ]
    }
   ],
   "source": [
    "starting_epoch = 345\n",
    "train_round = 0\n",
    "batch_size = 16\n",
    "epochs_per_eval = 10\n",
    "total_epochs = 445\n",
    "history = {'loss': [], 'binary_accuracy': [], 'accuracy': [], 'kappa': [], 'precision': [], 'recall': []}"
   ]
  },
  {
   "cell_type": "code",
   "execution_count": 19,
   "metadata": {},
   "outputs": [
    {
     "name": "stdout",
     "output_type": "stream",
     "text": [
      "time: 33.9 s\n"
     ]
    }
   ],
   "source": [
    "with tf.device('/GPU:1'):\n",
    "    submodel = models.load_model('./trained_models/2_1_submodel_235.h5')"
   ]
  },
  {
   "cell_type": "code",
   "execution_count": 39,
   "metadata": {},
   "outputs": [
    {
     "name": "stdout",
     "output_type": "stream",
     "text": [
      "time: 2.34 ms\n"
     ]
    }
   ],
   "source": [
    "with open('./trained_models/2_1_submodel_history.pkl', 'rb') as pkl_file:\n",
    "    history = pickle.load(pkl_file)"
   ]
  },
  {
   "cell_type": "code",
   "execution_count": null,
   "metadata": {},
   "outputs": [],
   "source": [
    "while (train_round+1) * epochs_per_eval + starting_epoch <= total_epochs:\n",
    "    print(f'executing epochs {train_round * epochs_per_eval + 1 + starting_epoch}-{(train_round+1) * epochs_per_eval + starting_epoch}')\n",
    "    \n",
    "    # adam = optimizers.Adam()\n",
    "    lr = 0.0001 * (0.9 ** train_round)\n",
    "    sgd = optimizers.sgd(lr=lr, momentum=0.9, nesterov=True)\n",
    "    submodel.compile(\n",
    "        loss='binary_crossentropy',\n",
    "        optimizer=sgd,\n",
    "        metrics=[metrics.binary_accuracy])\n",
    "    \n",
    "    submodel.fit_generator(datagen.flow(x_train, y_train, batch_size=batch_size),\n",
    "                           steps_per_epoch = len(x_train) / batch_size, epochs=epochs_per_eval, verbose=2)\n",
    "    \n",
    "    history['loss'].extend(submodel.history.history['loss'])\n",
    "    history['binary_accuracy'].extend(submodel.history.history['binary_accuracy'])\n",
    "    \n",
    "    y_valid_hat = submodel.predict(x_test)\n",
    "    true_label = np.round(y_test)\n",
    "    pred_label = np.round(y_valid_hat)\n",
    "    evaluate = MURAMetrics(true_label, pred_label)\n",
    "    \n",
    "    history['accuracy'].append(evaluate.accuracy())\n",
    "    history['kappa'].append(evaluate.kappa())\n",
    "    pnr = evaluate.precision_and_recall()\n",
    "    history['precision'].append(pnr['precision'])\n",
    "    history['recall'].append(pnr['recall'])\n",
    "    \n",
    "    print(f\"Valid Accuracy: {history['accuracy'][-1]}\")\n",
    "    print(f\"Valid Kappa: {history['kappa'][-1]}\")\n",
    "    print(f\"Valid Precision: {history['precision'][-1]}\")\n",
    "    print(f\"Valid Recall: {history['recall'][-1]}\")\n",
    "    \n",
    "    cur_epoch = (train_round+1) * epochs_per_eval\n",
    "    if cur_epoch % (epochs_per_eval * 10) == 0:\n",
    "        print(f'Saving Model to trained_models/2_1_submodel_{cur_epoch + starting_epoch}.h5...')\n",
    "        submodel.save(f'./trained_models/2_1_submodel_{cur_epoch + starting_epoch}.h5')\n",
    "    \n",
    "    print('Saving evaluation metrics history...')\n",
    "    with open('./trained_models/2_1_submodel_history.pkl', 'wb') as pkl_file:\n",
    "        pickle.dump(history, pkl_file)\n",
    "    \n",
    "    train_round += 1"
   ]
  },
  {
   "cell_type": "code",
   "execution_count": 41,
   "metadata": {},
   "outputs": [
    {
     "data": {
      "image/png": "[encoded data removed]",
      "text/plain": [
       "<Figure size 432x288 with 1 Axes>"
      ]
     },
     "metadata": {},
     "output_type": "display_data"
    },
    {
     "data": {
      "image/png": "[encoded data removed]",
      "text/plain": [
       "<Figure size 432x288 with 1 Axes>"
      ]
     },
     "metadata": {},
     "output_type": "display_data"
    },
    {
     "name": "stdout",
     "output_type": "stream",
     "text": [
      "time: 332 ms\n"
     ]
    }
   ],
   "source": [
    "# Plots for epochs 145-365\n",
    "# 145-235 used adam with default parameters\n",
    "# 236-345 used lr = 0.001 * (0.9 ** train_round)\n",
    "# 346-365 used lr = 0.0001 * (0.9 ** train_round) (pretty much levelled off, use 335 as result should be good enough)\n",
    "train_metrics = ['loss', 'binary_accuracy']\n",
    "validation_metrics = ['accuracy', 'kappa', 'precision', 'recall']\n",
    "for metric in train_metrics:\n",
    "    plt.plot(history[metric])\n",
    "plt.title('Training set metrics per epoch')\n",
    "plt.legend(train_metrics)\n",
    "plt.show() \n",
    "\n",
    "for metric in validation_metrics:\n",
    "    plt.plot(history[metric])\n",
    "plt.title(f'Validation set metrics per {epochs_per_eval}')\n",
    "plt.legend(validation_metrics)\n",
    "plt.show() "
   ]
  },
  {
   "cell_type": "markdown",
   "metadata": {},
   "source": [
    "# Train combined model"
   ]
  },
  {
   "cell_type": "code",
   "execution_count": 23,
   "metadata": {},
   "outputs": [
    {
     "name": "stdout",
     "output_type": "stream",
     "text": [
      "time: 26.1 s\n"
     ]
    }
   ],
   "source": [
    "sub_model = load_model('trained_models/2_1_submodel_335.h5')"
   ]
  },
  {
   "cell_type": "code",
   "execution_count": 24,
   "metadata": {},
   "outputs": [
    {
     "name": "stdout",
     "output_type": "stream",
     "text": [
      "time: 1.01 ms\n"
     ]
    }
   ],
   "source": [
    "sub_model.layers[-1].activation = layers.activations.linear"
   ]
  },
  {
   "cell_type": "code",
   "execution_count": null,
   "metadata": {},
   "outputs": [],
   "source": [
    "x_in = [layers.Input(shape=(256, 256, 1), name=f'imginput_{i}') for i in range(2)]\n",
    "\n",
    "submodel_last_layer = models.Model(input=sub_model.input, output=sub_model.layers[-1].output)\n",
    "\n",
    "sub = [None] * num_parallel\n",
    "\n",
    "for j in range(num_parallel):\n",
    "    with tf.device(f'/GPU:{j}'):\n",
    "        sub[j] = submodel_last_layer(x_in[j])\n",
    "        \n",
    "parallel_dense = models.Model(input=x_in, output=layers.activations.sigmoid(layers.merge.average(sub)))"
   ]
  },
  {
   "cell_type": "code",
   "execution_count": 28,
   "metadata": {},
   "outputs": [
    {
     "name": "stdout",
     "output_type": "stream",
     "text": [
      "time: 26.1 ms\n"
     ]
    }
   ],
   "source": []
  },
  {
   "cell_type": "code",
   "execution_count": 29,
   "metadata": {},
   "outputs": [
    {
     "name": "stdout",
     "output_type": "stream",
     "text": [
      "__________________________________________________________________________________________________\n",
      "Layer (type)                    Output Shape         Param #     Connected to                     \n",
      "==================================================================================================\n",
      "imginput_0 (InputLayer)         (None, 256, 256, 1)  0                                            \n",
      "__________________________________________________________________________________________________\n",
      "imginput_1 (InputLayer)         (None, 256, 256, 1)  0                                            \n",
      "__________________________________________________________________________________________________\n",
      "model_2 (Model)                 (None, 1)            7096769     imginput_0[0][0]                 \n",
      "                                                                 imginput_1[0][0]                 \n",
      "__________________________________________________________________________________________________\n",
      "average_2 (Average)             (None, 1)            0           model_2[1][0]                    \n",
      "                                                                 model_2[2][0]                    \n",
      "__________________________________________________________________________________________________\n",
      "dense_1 (Dense)                 (None, 1)            2           average_2[0][0]                  \n",
      "==================================================================================================\n",
      "Total params: 7,096,771\n",
      "Trainable params: 7,013,123\n",
      "Non-trainable params: 83,648\n",
      "__________________________________________________________________________________________________\n",
      "time: 22.1 ms\n"
     ]
    }
   ],
   "source": [
    "parallel_dense.summary()"
   ]
  },
  {
   "cell_type": "markdown",
   "metadata": {},
   "source": [
    "Write image generator"
   ]
  },
  {
   "cell_type": "code",
   "execution_count": 33,
   "metadata": {},
   "outputs": [
    {
     "name": "stdout",
     "output_type": "stream",
     "text": [
      "time: 10.6 ms\n"
     ]
    }
   ],
   "source": [
    "def preprocess_images(images, datagen):\n",
    "    X = np.zeros((len(images), images[0].shape[0], images[0].shape[1], 1))\n",
    "    for i, image in enumerate(images):\n",
    "        X[i, :, :, :] = datagen.random_transform(image)\n",
    "    return X\n",
    "\n",
    "def parallel_image_generator(input_x, input_y, batch_size, imgsize=256, num_inputs=4):\n",
    "    datagen_args = dict(rotation_range=360,\n",
    "        width_shift_range=0.1,\n",
    "        height_shift_range=0.1,\n",
    "        zoom_range=[1, 1.1],\n",
    "        fill_mode = 'constant',\n",
    "        cval=0,\n",
    "        horizontal_flip=True,\n",
    "        vertical_flip=True)\n",
    "    datagens = [None] * num_inputs\n",
    "    for j in range(num_inputs):\n",
    "        datagens[j] = ImageDataGenerator(**datagen_args)\n",
    "        \n",
    "    X = [None] * num_inputs\n",
    "    while True:\n",
    "        # loop once per epoch\n",
    "        num_recs = len(input_x)\n",
    "        # indices = np.random.permutation(np.arange(num_recs))\n",
    "        num_batches = num_recs // batch_size\n",
    "        for bid in range(num_batches):\n",
    "            # loop once per batch\n",
    "            batch_indices = np.random.random_integers(0, num_recs - 1, batch_size)# indices[bid * batch_size : (bid + 1) * batch_size]\n",
    "            batch = [input_x[i, :, :, :] for i in batch_indices]\n",
    "            # make sure image data generators generate same transformations\n",
    "            for j in range(num_inputs):\n",
    "                X[j] = preprocess_images(\n",
    "                    [np.reshape(\n",
    "                        b[:, :, j], (imgsize, imgsize, 1)) \n",
    "                     for b in batch], datagens[j])\n",
    "            Y = np.array([input_y[i] for i in batch_indices])\n",
    "            yield X, Y"
   ]
  },
  {
   "cell_type": "code",
   "execution_count": 34,
   "metadata": {},
   "outputs": [
    {
     "name": "stdout",
     "output_type": "stream",
     "text": [
      "time: 2.71 ms\n"
     ]
    }
   ],
   "source": [
    "starting_epoch = 0\n",
    "train_round = 0\n",
    "batch_size = 16\n",
    "epochs_per_eval = 10\n",
    "total_epochs = 250\n",
    "history = {'loss': [], 'binary_accuracy': [], 'accuracy': [], 'kappa': [], 'precision': [], 'recall': []}"
   ]
  },
  {
   "cell_type": "code",
   "execution_count": 35,
   "metadata": {},
   "outputs": [
    {
     "name": "stdout",
     "output_type": "stream",
     "text": [
      "time: 1.61 ms\n"
     ]
    }
   ],
   "source": [
    "imgen = parallel_image_generator(x_train_study, y_train_study, batch_size=batch_size, num_inputs=num_parallel)"
   ]
  },
  {
   "cell_type": "raw",
   "metadata": {},
   "source": [
    "with open('./trained_models/2_1_parallel_dense_history.pkl', 'rb') as pkl_file:\n",
    "    history = pickle.load(pkl_file)"
   ]
  },
  {
   "cell_type": "code",
   "execution_count": 36,
   "metadata": {},
   "outputs": [
    {
     "name": "stdout",
     "output_type": "stream",
     "text": [
      "executing epochs 1-10\n",
      "Epoch 1/10\n",
      " - 288s - loss: 0.7124 - binary_accuracy: 0.5730\n",
      "Epoch 2/10\n",
      " - 245s - loss: 0.6818 - binary_accuracy: 0.5953\n",
      "Epoch 3/10\n",
      " - 245s - loss: 0.6798 - binary_accuracy: 0.5965\n",
      "Epoch 4/10\n",
      " - 245s - loss: 0.6745 - binary_accuracy: 0.6030\n",
      "Epoch 5/10\n",
      " - 244s - loss: 0.6749 - binary_accuracy: 0.6042\n",
      "Epoch 6/10\n",
      " - 244s - loss: 0.6738 - binary_accuracy: 0.6047\n",
      "Epoch 7/10\n",
      " - 244s - loss: 0.6798 - binary_accuracy: 0.5888\n",
      "Epoch 8/10\n",
      " - 243s - loss: 0.6720 - binary_accuracy: 0.6064\n",
      "Epoch 9/10\n",
      " - 243s - loss: 0.6735 - binary_accuracy: 0.6021\n",
      "Epoch 10/10\n",
      " - 244s - loss: 0.6719 - binary_accuracy: 0.6075\n",
      "Valid Accuracy: 0.5300546448087432\n",
      "Valid Kappa: -0.0018212746093099524\n",
      "Valid Precision: 0.0\n",
      "Valid Recall: 0.0\n",
      "Saving evaluation metrics history...\n",
      "executing epochs 11-20\n",
      "Epoch 1/10\n",
      " - 283s - loss: 0.6756 - binary_accuracy: 0.5974\n",
      "Epoch 2/10\n",
      " - 244s - loss: 0.6709 - binary_accuracy: 0.6069\n",
      "Epoch 3/10\n",
      " - 245s - loss: 0.6731 - binary_accuracy: 0.6013\n",
      "Epoch 4/10\n",
      " - 245s - loss: 0.6692 - binary_accuracy: 0.6117\n",
      "Epoch 5/10\n",
      " - 244s - loss: 0.6743 - binary_accuracy: 0.5974\n",
      "Epoch 6/10\n",
      " - 245s - loss: 0.6692 - binary_accuracy: 0.6115\n",
      "Epoch 7/10\n",
      " - 245s - loss: 0.6728 - binary_accuracy: 0.6017\n",
      "Epoch 8/10\n",
      " - 246s - loss: 0.6755 - binary_accuracy: 0.5949\n",
      "Epoch 9/10\n",
      " - 245s - loss: 0.6702 - binary_accuracy: 0.6073\n",
      "Epoch 10/10\n",
      " - 246s - loss: 0.6733 - binary_accuracy: 0.5999\n",
      "Valid Accuracy: 0.5309653916211293\n",
      "Valid Kappa: 0.0014409679914390038\n",
      "Valid Precision: 0.5\n",
      "Valid Recall: 0.011650485436893204\n",
      "Saving evaluation metrics history...\n",
      "executing epochs 21-30\n",
      "Epoch 1/10\n",
      " - 287s - loss: 0.6720 - binary_accuracy: 0.6038\n",
      "Epoch 2/10\n",
      " - 247s - loss: 0.6701 - binary_accuracy: 0.6081\n",
      "Epoch 3/10\n",
      " - 246s - loss: 0.6686 - binary_accuracy: 0.6112\n",
      "Epoch 4/10\n",
      " - 247s - loss: 0.6716 - binary_accuracy: 0.6036\n",
      "Epoch 5/10\n",
      " - 247s - loss: 0.6743 - binary_accuracy: 0.5973\n",
      "Epoch 6/10\n",
      " - 247s - loss: 0.6693 - binary_accuracy: 0.6093\n",
      "Epoch 7/10\n",
      " - 247s - loss: 0.6757 - binary_accuracy: 0.5933\n",
      "Epoch 8/10\n",
      " - 247s - loss: 0.6717 - binary_accuracy: 0.6037\n",
      "Epoch 9/10\n",
      " - 246s - loss: 0.6729 - binary_accuracy: 0.6006\n",
      "Epoch 10/10\n",
      " - 246s - loss: 0.6723 - binary_accuracy: 0.6020\n",
      "Valid Accuracy: 0.5309653916211293\n",
      "Valid Kappa: 0.0\n",
      "Valid Precision: nan\n",
      "Valid Recall: 0.0\n",
      "Saving evaluation metrics history...\n",
      "executing epochs 31-40\n",
      "Epoch 1/10\n",
      " - 291s - loss: 0.6728 - binary_accuracy: 0.6012\n",
      "Epoch 2/10\n",
      " - 248s - loss: 0.6720 - binary_accuracy: 0.6032\n",
      "Epoch 3/10\n",
      " - 249s - loss: 0.6719 - binary_accuracy: 0.6031\n",
      "Epoch 4/10\n",
      " - 248s - loss: 0.6728 - binary_accuracy: 0.6008\n",
      "Epoch 5/10\n",
      " - 248s - loss: 0.6715 - binary_accuracy: 0.6042\n",
      "Epoch 6/10\n",
      " - 249s - loss: 0.6718 - binary_accuracy: 0.6034\n",
      "Epoch 7/10\n",
      " - 248s - loss: 0.6733 - binary_accuracy: 0.6000\n",
      "Epoch 8/10\n",
      " - 248s - loss: 0.6720 - binary_accuracy: 0.6030\n",
      "Epoch 9/10\n",
      " - 248s - loss: 0.6696 - binary_accuracy: 0.6085\n",
      "Epoch 10/10\n",
      " - 248s - loss: 0.6716 - binary_accuracy: 0.6042\n",
      "Valid Accuracy: 0.5309653916211293\n",
      "Valid Kappa: 0.0009611069690856817\n",
      "Valid Precision: 0.5\n",
      "Valid Recall: 0.007766990291262136\n",
      "Saving evaluation metrics history...\n",
      "executing epochs 41-50\n",
      "Epoch 1/10\n",
      " - 297s - loss: 0.6741 - binary_accuracy: 0.5972\n",
      "Epoch 2/10\n",
      " - 251s - loss: 0.6726 - binary_accuracy: 0.6014\n",
      "Epoch 3/10\n",
      " - 250s - loss: 0.6745 - binary_accuracy: 0.5965\n",
      "Epoch 4/10\n",
      " - 250s - loss: 0.6722 - binary_accuracy: 0.6027\n",
      "Epoch 5/10\n",
      " - 250s - loss: 0.6742 - binary_accuracy: 0.5976\n",
      "Epoch 6/10\n",
      " - 249s - loss: 0.6716 - binary_accuracy: 0.6038\n",
      "Epoch 7/10\n",
      " - 250s - loss: 0.6737 - binary_accuracy: 0.5988\n",
      "Epoch 8/10\n",
      " - 249s - loss: 0.6719 - binary_accuracy: 0.6031\n",
      "Epoch 9/10\n",
      " - 251s - loss: 0.6706 - binary_accuracy: 0.6064\n",
      "Epoch 10/10\n",
      " - 250s - loss: 0.6739 - binary_accuracy: 0.5987\n",
      "Valid Accuracy: 0.5273224043715847\n",
      "Valid Kappa: -0.006314830315423536\n",
      "Valid Precision: 0.3333333333333333\n",
      "Valid Recall: 0.007766990291262136\n",
      "Saving evaluation metrics history...\n",
      "executing epochs 51-60\n",
      "Epoch 1/10\n",
      " - 303s - loss: 0.6732 - binary_accuracy: 0.6001\n",
      "Epoch 2/10\n",
      " - 253s - loss: 0.6718 - binary_accuracy: 0.6037\n",
      "Epoch 3/10\n",
      " - 252s - loss: 0.6706 - binary_accuracy: 0.6060\n",
      "Epoch 4/10\n",
      " - 251s - loss: 0.6720 - binary_accuracy: 0.6032\n",
      "Epoch 5/10\n",
      " - 248s - loss: 0.6679 - binary_accuracy: 0.6123\n",
      "Epoch 6/10\n",
      " - 249s - loss: 0.6731 - binary_accuracy: 0.6004\n",
      "Epoch 7/10\n",
      " - 249s - loss: 0.6718 - binary_accuracy: 0.6034\n",
      "Epoch 8/10\n",
      " - 250s - loss: 0.6720 - binary_accuracy: 0.6028\n",
      "Epoch 9/10\n",
      " - 250s - loss: 0.6709 - binary_accuracy: 0.6055\n",
      "Epoch 10/10\n",
      " - 250s - loss: 0.6677 - binary_accuracy: 0.6132\n",
      "Valid Accuracy: 0.5309653916211293\n",
      "Valid Kappa: 0.0\n",
      "Valid Precision: nan\n",
      "Valid Recall: 0.0\n",
      "Saving evaluation metrics history...\n",
      "executing epochs 61-70\n",
      "Epoch 1/10\n",
      " - 304s - loss: 0.6741 - binary_accuracy: 0.5979\n",
      "Epoch 2/10\n",
      " - 252s - loss: 0.6707 - binary_accuracy: 0.6061\n",
      "Epoch 3/10\n",
      " - 252s - loss: 0.6747 - binary_accuracy: 0.5964\n",
      "Epoch 4/10\n",
      " - 252s - loss: 0.6707 - binary_accuracy: 0.6060\n",
      "Epoch 5/10\n",
      " - 252s - loss: 0.6722 - binary_accuracy: 0.6021\n",
      "Epoch 6/10\n",
      " - 251s - loss: 0.6713 - binary_accuracy: 0.6049\n",
      "Epoch 7/10\n",
      " - 252s - loss: 0.6691 - binary_accuracy: 0.6093\n",
      "Epoch 8/10\n",
      " - 252s - loss: 0.6733 - binary_accuracy: 0.5995\n",
      "Epoch 9/10\n",
      " - 252s - loss: 0.6705 - binary_accuracy: 0.6064\n",
      "Epoch 10/10\n",
      " - 251s - loss: 0.6727 - binary_accuracy: 0.6014\n",
      "Valid Accuracy: 0.5273224043715847\n",
      "Valid Kappa: -0.0048668493498522395\n",
      "Valid Precision: 0.4166666666666667\n",
      "Valid Recall: 0.019417475728155338\n",
      "Saving evaluation metrics history...\n",
      "executing epochs 71-80\n",
      "Epoch 1/10\n",
      " - 311s - loss: 0.6729 - binary_accuracy: 0.6008\n",
      "Epoch 2/10\n",
      " - 253s - loss: 0.6711 - binary_accuracy: 0.6051\n",
      "Epoch 3/10\n",
      " - 251s - loss: 0.6706 - binary_accuracy: 0.6063\n",
      "Epoch 4/10\n",
      " - 253s - loss: 0.6718 - binary_accuracy: 0.6034\n",
      "Epoch 5/10\n",
      " - 254s - loss: 0.6734 - binary_accuracy: 0.5997\n",
      "Epoch 6/10\n",
      " - 253s - loss: 0.6695 - binary_accuracy: 0.6088\n",
      "Epoch 7/10\n",
      " - 253s - loss: 0.6702 - binary_accuracy: 0.6070\n",
      "Epoch 8/10\n",
      " - 253s - loss: 0.6713 - binary_accuracy: 0.6043\n",
      "Epoch 9/10\n",
      " - 254s - loss: 0.6746 - binary_accuracy: 0.5970\n",
      "Epoch 10/10\n",
      " - 253s - loss: 0.6723 - binary_accuracy: 0.6022\n",
      "Valid Accuracy: 0.5309653916211293\n",
      "Valid Kappa: 0.0\n",
      "Valid Precision: nan\n",
      "Valid Recall: 0.0\n",
      "Saving evaluation metrics history...\n",
      "executing epochs 81-90\n",
      "Epoch 1/10\n",
      " - 314s - loss: 0.6746 - binary_accuracy: 0.5965\n",
      "Epoch 2/10\n",
      " - 254s - loss: 0.6691 - binary_accuracy: 0.6097\n",
      "Epoch 3/10\n",
      " - 255s - loss: 0.6703 - binary_accuracy: 0.6069\n",
      "Epoch 4/10\n",
      " - 254s - loss: 0.6737 - binary_accuracy: 0.5991\n",
      "Epoch 5/10\n",
      " - 256s - loss: 0.6724 - binary_accuracy: 0.6020\n",
      "Epoch 6/10\n",
      " - 254s - loss: 0.6675 - binary_accuracy: 0.6135\n",
      "Epoch 7/10\n",
      " - 254s - loss: 0.6686 - binary_accuracy: 0.6107\n",
      "Epoch 8/10\n",
      " - 254s - loss: 0.6691 - binary_accuracy: 0.6096\n",
      "Epoch 9/10\n",
      " - 254s - loss: 0.6738 - binary_accuracy: 0.5986\n",
      "Epoch 10/10\n",
      " - 255s - loss: 0.6700 - binary_accuracy: 0.6077\n",
      "Valid Accuracy: 0.5309653916211293\n",
      "Valid Kappa: 0.0\n",
      "Valid Precision: nan\n",
      "Valid Recall: 0.0\n",
      "Saving evaluation metrics history...\n",
      "executing epochs 91-100\n",
      "Epoch 1/10\n",
      " - 321s - loss: 0.6736 - binary_accuracy: 0.5992\n",
      "Epoch 2/10\n",
      " - 257s - loss: 0.6714 - binary_accuracy: 0.6040\n",
      "Epoch 3/10\n",
      " - 255s - loss: 0.6734 - binary_accuracy: 0.5995\n",
      "Epoch 4/10\n",
      " - 256s - loss: 0.6709 - binary_accuracy: 0.6055\n",
      "Epoch 5/10\n",
      " - 257s - loss: 0.6749 - binary_accuracy: 0.5957\n",
      "Epoch 6/10\n",
      " - 256s - loss: 0.6697 - binary_accuracy: 0.6086\n",
      "Epoch 7/10\n",
      " - 255s - loss: 0.6708 - binary_accuracy: 0.6055\n",
      "Epoch 8/10\n",
      " - 255s - loss: 0.6699 - binary_accuracy: 0.6074\n",
      "Epoch 9/10\n",
      " - 255s - loss: 0.6711 - binary_accuracy: 0.6050\n",
      "Epoch 10/10\n",
      " - 255s - loss: 0.6711 - binary_accuracy: 0.6051\n",
      "Valid Accuracy: 0.5318761384335154\n",
      "Valid Kappa: 0.0020617535868500104\n",
      "Valid Precision: 1.0\n",
      "Valid Recall: 0.001941747572815534\n",
      "Saving Model to trained_models/2_1_parallel_dense_100.h5...\n"
     ]
    },
    {
     "ename": "NameError",
     "evalue": "name 'submodel' is not defined",
     "output_type": "error",
     "traceback": [
      "\u001b[0;31m---------------------------------------------------------------------------\u001b[0m",
      "\u001b[0;31mNameError\u001b[0m                                 Traceback (most recent call last)",
      "\u001b[0;32m<ipython-input-36-db86b375069d>\u001b[0m in \u001b[0;36m<module>\u001b[0;34m()\u001b[0m\n\u001b[1;32m     35\u001b[0m     \u001b[0;32mif\u001b[0m \u001b[0mcur_epoch\u001b[0m \u001b[0;34m%\u001b[0m \u001b[0;34m(\u001b[0m\u001b[0mepochs_per_eval\u001b[0m \u001b[0;34m*\u001b[0m \u001b[0;36m10\u001b[0m\u001b[0;34m)\u001b[0m \u001b[0;34m==\u001b[0m \u001b[0;36m0\u001b[0m\u001b[0;34m:\u001b[0m\u001b[0;34m\u001b[0m\u001b[0m\n\u001b[1;32m     36\u001b[0m         \u001b[0mprint\u001b[0m\u001b[0;34m(\u001b[0m\u001b[0;34mf'Saving Model to trained_models/2_1_parallel_dense_{cur_epoch + starting_epoch}.h5...'\u001b[0m\u001b[0;34m)\u001b[0m\u001b[0;34m\u001b[0m\u001b[0m\n\u001b[0;32m---> 37\u001b[0;31m         \u001b[0msubmodel\u001b[0m\u001b[0;34m.\u001b[0m\u001b[0msave\u001b[0m\u001b[0;34m(\u001b[0m\u001b[0;34mf'./trained_models/2_1_parallel_dense_{cur_epoch + starting_epoch}.h5'\u001b[0m\u001b[0;34m)\u001b[0m\u001b[0;34m\u001b[0m\u001b[0m\n\u001b[0m\u001b[1;32m     38\u001b[0m \u001b[0;34m\u001b[0m\u001b[0m\n\u001b[1;32m     39\u001b[0m     \u001b[0mprint\u001b[0m\u001b[0;34m(\u001b[0m\u001b[0;34m'Saving evaluation metrics history...'\u001b[0m\u001b[0;34m)\u001b[0m\u001b[0;34m\u001b[0m\u001b[0m\n",
      "\u001b[0;31mNameError\u001b[0m: name 'submodel' is not defined"
     ]
    },
    {
     "name": "stdout",
     "output_type": "stream",
     "text": [
      "time: 7h 10min 39s\n"
     ]
    }
   ],
   "source": [
    "while (train_round+1) * epochs_per_eval + starting_epoch <= total_epochs:\n",
    "    print(f'executing epochs {train_round * epochs_per_eval + 1 + starting_epoch}-{(train_round+1) * epochs_per_eval + starting_epoch}')\n",
    "    \n",
    "    adam = optimizers.Adam()\n",
    "#     lr = 0.0001 * (0.9 ** train_round)\n",
    "#     sgd = optimizers.sgd(lr=lr, momentum=0.9, nesterov=True)\n",
    "    \n",
    "    parallel_dense.compile(\n",
    "        loss='binary_crossentropy',\n",
    "        optimizer=adam,\n",
    "        metrics=[metrics.binary_accuracy])\n",
    "    \n",
    "    parallel_dense.fit_generator(imgen, steps_per_epoch = len(x_train_study) / batch_size, epochs=epochs_per_eval, verbose=2)\n",
    "    \n",
    "    history['loss'].extend(parallel_dense.history.history['loss'])\n",
    "    history['binary_accuracy'].extend(parallel_dense.history.history['binary_accuracy'])\n",
    "    \n",
    "    y_valid_hat = parallel_dense.predict([np.reshape(x_valid_study[:, :, :, j], (n_studies_valid, size, size, 1)) for j in range(num_parallel)])\n",
    "    true_label = np.round(y_valid_study)\n",
    "    pred_label = np.round(y_valid_hat)\n",
    "    evaluate = MURAMetrics(true_label, pred_label)\n",
    "    \n",
    "    history['accuracy'].append(evaluate.accuracy())\n",
    "    history['kappa'].append(evaluate.kappa())\n",
    "    pnr = evaluate.precision_and_recall()\n",
    "    history['precision'].append(pnr['precision'])\n",
    "    history['recall'].append(pnr['recall'])\n",
    "    \n",
    "    print(f\"Valid Accuracy: {history['accuracy'][-1]}\")\n",
    "    print(f\"Valid Kappa: {history['kappa'][-1]}\")\n",
    "    print(f\"Valid Precision: {history['precision'][-1]}\")\n",
    "    print(f\"Valid Recall: {history['recall'][-1]}\")\n",
    "    \n",
    "    cur_epoch = (train_round+1) * epochs_per_eval\n",
    "    if cur_epoch % (epochs_per_eval * 10) == 0:\n",
    "        print(f'Saving Model to trained_models/2_1_parallel_dense_{cur_epoch + starting_epoch}.h5...')\n",
    "        submodel.save(f'./trained_models/2_1_parallel_dense_{cur_epoch + starting_epoch}.h5')\n",
    "    \n",
    "    print('Saving evaluation metrics history...')\n",
    "    with open('./trained_models/2_1_parallel_dense_history.pkl', 'wb') as pkl_file:\n",
    "        pickle.dump(history, pkl_file)\n",
    "    \n",
    "    train_round += 1"
   ]
  },
  {
   "cell_type": "code",
   "execution_count": null,
   "metadata": {},
   "outputs": [],
   "source": []
  },
  {
   "cell_type": "markdown",
   "metadata": {},
   "source": [
    "# Diagnose"
   ]
  },
  {
   "cell_type": "code",
   "execution_count": 34,
   "metadata": {},
   "outputs": [
    {
     "name": "stdout",
     "output_type": "stream",
     "text": [
      "time: 201 ms\n"
     ]
    }
   ],
   "source": [
    "X, Y = imgen.__next__()"
   ]
  },
  {
   "cell_type": "code",
   "execution_count": 35,
   "metadata": {},
   "outputs": [
    {
     "data": {
      "text/plain": [
       "array([1., 0., 0., 1., 0., 0., 1., 0., 0., 0., 1., 0., 0., 1., 1., 0.])"
      ]
     },
     "execution_count": 35,
     "metadata": {},
     "output_type": "execute_result"
    },
    {
     "name": "stdout",
     "output_type": "stream",
     "text": [
      "time: 2.57 ms\n"
     ]
    }
   ],
   "source": [
    "Y"
   ]
  },
  {
   "cell_type": "code",
   "execution_count": 36,
   "metadata": {},
   "outputs": [
    {
     "data": {
      "text/plain": [
       "(16, 256, 256, 1)"
      ]
     },
     "execution_count": 36,
     "metadata": {},
     "output_type": "execute_result"
    },
    {
     "name": "stdout",
     "output_type": "stream",
     "text": [
      "time: 2.2 ms\n"
     ]
    }
   ],
   "source": [
    "X[1].shape"
   ]
  },
  {
   "cell_type": "code",
   "execution_count": 37,
   "metadata": {},
   "outputs": [
    {
     "data": {
      "text/plain": [
       "array([[0., 0., 0., ..., 0., 0., 0.],\n",
       "       [0., 0., 0., ..., 0., 0., 0.],\n",
       "       [0., 0., 0., ..., 0., 0., 0.],\n",
       "       ...,\n",
       "       [0., 0., 0., ..., 0., 0., 0.],\n",
       "       [0., 0., 0., ..., 0., 0., 0.],\n",
       "       [0., 0., 0., ..., 0., 0., 0.]])"
      ]
     },
     "execution_count": 37,
     "metadata": {},
     "output_type": "execute_result"
    },
    {
     "name": "stdout",
     "output_type": "stream",
     "text": [
      "time: 4.09 ms\n"
     ]
    }
   ],
   "source": [
    "X[0][0, :, :, 0]"
   ]
  },
  {
   "cell_type": "code",
   "execution_count": 38,
   "metadata": {},
   "outputs": [
    {
     "name": "stdout",
     "output_type": "stream",
     "text": [
      "time: 1.11 ms\n"
     ]
    }
   ],
   "source": [
    "i=0"
   ]
  },
  {
   "cell_type": "code",
   "execution_count": 39,
   "metadata": {},
   "outputs": [
    {
     "data": {
      "text/plain": [
       "1.0"
      ]
     },
     "execution_count": 39,
     "metadata": {},
     "output_type": "execute_result"
    },
    {
     "name": "stdout",
     "output_type": "stream",
     "text": [
      "time: 5.8 ms\n"
     ]
    }
   ],
   "source": [
    "Y[i]"
   ]
  },
  {
   "cell_type": "code",
   "execution_count": 40,
   "metadata": {},
   "outputs": [
    {
     "data": {
      "image/png": "[encoded data removed]",
      "text/plain": [
       "<Figure size 432x288 with 1 Axes>"
      ]
     },
     "metadata": {},
     "output_type": "display_data"
    },
    {
     "data": {
      "image/png": "[encoded data removed]",
      "text/plain": [
       "<Figure size 432x288 with 1 Axes>"
      ]
     },
     "metadata": {},
     "output_type": "display_data"
    },
    {
     "name": "stdout",
     "output_type": "stream",
     "text": [
      "time: 318 ms\n"
     ]
    }
   ],
   "source": [
    "for j in range(num_parallel):\n",
    "    plt.imshow(X[j][i, :, :, 0], cmap='gray')\n",
    "    plt.show()"
   ]
  },
  {
   "cell_type": "code",
   "execution_count": 45,
   "metadata": {},
   "outputs": [
    {
     "name": "stdout",
     "output_type": "stream",
     "text": [
      "__________________________________________________________________________________________________\n",
      "Layer (type)                    Output Shape         Param #     Connected to                     \n",
      "==================================================================================================\n",
      "imginput_0 (InputLayer)         (None, 256, 256, 1)  0                                            \n",
      "__________________________________________________________________________________________________\n",
      "imginput_1 (InputLayer)         (None, 256, 256, 1)  0                                            \n",
      "__________________________________________________________________________________________________\n",
      "model_1 (Model)                 (None, 1)            7096769     imginput_0[0][0]                 \n",
      "                                                                 imginput_1[0][0]                 \n",
      "__________________________________________________________________________________________________\n",
      "average_1 (Average)             (None, 1)            0           model_1[1][0]                    \n",
      "                                                                 model_1[2][0]                    \n",
      "==================================================================================================\n",
      "Total params: 7,096,769\n",
      "Trainable params: 7,013,121\n",
      "Non-trainable params: 83,648\n",
      "__________________________________________________________________________________________________\n",
      "time: 19.3 ms\n"
     ]
    }
   ],
   "source": [
    "parallel_dense.summary()"
   ]
  },
  {
   "cell_type": "code",
   "execution_count": 56,
   "metadata": {},
   "outputs": [
    {
     "name": "stdout",
     "output_type": "stream",
     "text": [
      "time: 1.33 ms\n"
     ]
    }
   ],
   "source": [
    "llyr = parallel_dense.get_layer('model_1')"
   ]
  },
  {
   "cell_type": "code",
   "execution_count": 58,
   "metadata": {},
   "outputs": [
    {
     "data": {
      "text/plain": [
       "[<tf.Tensor 'dense_3/Sigmoid:0' shape=(?, 1) dtype=float32>]"
      ]
     },
     "execution_count": 58,
     "metadata": {},
     "output_type": "execute_result"
    },
    {
     "name": "stdout",
     "output_type": "stream",
     "text": [
      "time: 3.9 ms\n"
     ]
    }
   ],
   "source": [
    "llyr.outputs"
   ]
  },
  {
   "cell_type": "code",
   "execution_count": 67,
   "metadata": {},
   "outputs": [
    {
     "data": {
      "text/plain": [
       "[array([[0.37669477],\n",
       "        [0.34713903],\n",
       "        [0.360646  ],\n",
       "        [0.38409138],\n",
       "        [0.35270178],\n",
       "        [0.34227717],\n",
       "        [0.37548903],\n",
       "        [0.35813764],\n",
       "        [0.3989523 ],\n",
       "        [0.37248597],\n",
       "        [0.37319106],\n",
       "        [0.33258897],\n",
       "        [0.36997783],\n",
       "        [0.4386978 ],\n",
       "        [0.3916164 ],\n",
       "        [0.36255652]], dtype=float32), array([[0.37901717],\n",
       "        [0.20903136],\n",
       "        [0.37083808],\n",
       "        [0.37227738],\n",
       "        [0.36047667],\n",
       "        [0.35041556],\n",
       "        [0.46060336],\n",
       "        [0.36085728],\n",
       "        [0.4083379 ],\n",
       "        [0.36044058],\n",
       "        [0.37170643],\n",
       "        [0.36213607],\n",
       "        [0.392097  ],\n",
       "        [0.22353627],\n",
       "        [0.36380914],\n",
       "        [0.35951924]], dtype=float32)]"
      ]
     },
     "execution_count": 67,
     "metadata": {},
     "output_type": "execute_result"
    },
    {
     "name": "stdout",
     "output_type": "stream",
     "text": [
      "time: 189 ms\n"
     ]
    }
   ],
   "source": [
    "[parallel_dense.get_layer('model_1').predict(X[0]), parallel_dense.get_layer('model_1').predict(X[1])]"
   ]
  },
  {
   "cell_type": "code",
   "execution_count": 68,
   "metadata": {},
   "outputs": [
    {
     "data": {
      "text/plain": [
       "array([1., 0., 0., 1., 0., 0., 1., 0., 0., 0., 1., 0., 0., 1., 1., 0.])"
      ]
     },
     "execution_count": 68,
     "metadata": {},
     "output_type": "execute_result"
    },
    {
     "name": "stdout",
     "output_type": "stream",
     "text": [
      "time: 3.76 ms\n"
     ]
    }
   ],
   "source": [
    "Y"
   ]
  },
  {
   "cell_type": "code",
   "execution_count": 61,
   "metadata": {},
   "outputs": [
    {
     "ename": "ValueError",
     "evalue": "Graph disconnected: cannot obtain value for tensor Tensor(\"input_2:0\", shape=(?, 256, 256, 1), dtype=float32) at layer \"input_2\". The following previous layers were accessed without issue: []",
     "output_type": "error",
     "traceback": [
      "\u001b[0;31m---------------------------------------------------------------------------\u001b[0m",
      "\u001b[0;31mValueError\u001b[0m                                Traceback (most recent call last)",
      "\u001b[0;32m<ipython-input-61-22d035b2c53c>\u001b[0m in \u001b[0;36m<module>\u001b[0;34m()\u001b[0m\n\u001b[0;32m----> 1\u001b[0;31m \u001b[0mmid_layer\u001b[0m \u001b[0;34m=\u001b[0m \u001b[0mmodels\u001b[0m\u001b[0;34m.\u001b[0m\u001b[0mModel\u001b[0m\u001b[0;34m(\u001b[0m\u001b[0minput\u001b[0m\u001b[0;34m=\u001b[0m\u001b[0mparallel_dense\u001b[0m\u001b[0;34m.\u001b[0m\u001b[0minputs\u001b[0m\u001b[0;34m,\u001b[0m \u001b[0moutput\u001b[0m\u001b[0;34m=\u001b[0m\u001b[0mparallel_dense\u001b[0m\u001b[0;34m.\u001b[0m\u001b[0mget_layer\u001b[0m\u001b[0;34m(\u001b[0m\u001b[0;34m'model_1'\u001b[0m\u001b[0;34m)\u001b[0m\u001b[0;34m.\u001b[0m\u001b[0moutputs\u001b[0m\u001b[0;34m)\u001b[0m\u001b[0;34m\u001b[0m\u001b[0m\n\u001b[0m\u001b[1;32m      2\u001b[0m \u001b[0mmid_out\u001b[0m \u001b[0;34m=\u001b[0m \u001b[0mmid_layer\u001b[0m\u001b[0;34m.\u001b[0m\u001b[0mpredict\u001b[0m\u001b[0;34m(\u001b[0m\u001b[0mX\u001b[0m\u001b[0;34m)\u001b[0m\u001b[0;34m\u001b[0m\u001b[0m\n\u001b[1;32m      3\u001b[0m \u001b[0mmid_out\u001b[0m\u001b[0;34m[\u001b[0m\u001b[0;36m0\u001b[0m\u001b[0;34m]\u001b[0m\u001b[0;34m.\u001b[0m\u001b[0mshape\u001b[0m\u001b[0;34m\u001b[0m\u001b[0m\n",
      "\u001b[0;32m~/anaconda3/envs/mura/lib/python3.6/site-packages/keras/legacy/interfaces.py\u001b[0m in \u001b[0;36mwrapper\u001b[0;34m(*args, **kwargs)\u001b[0m\n\u001b[1;32m     89\u001b[0m                 warnings.warn('Update your `' + object_name +\n\u001b[1;32m     90\u001b[0m                               '` call to the Keras 2 API: ' + signature, stacklevel=2)\n\u001b[0;32m---> 91\u001b[0;31m             \u001b[0;32mreturn\u001b[0m \u001b[0mfunc\u001b[0m\u001b[0;34m(\u001b[0m\u001b[0;34m*\u001b[0m\u001b[0margs\u001b[0m\u001b[0;34m,\u001b[0m \u001b[0;34m**\u001b[0m\u001b[0mkwargs\u001b[0m\u001b[0;34m)\u001b[0m\u001b[0;34m\u001b[0m\u001b[0m\n\u001b[0m\u001b[1;32m     92\u001b[0m         \u001b[0mwrapper\u001b[0m\u001b[0;34m.\u001b[0m\u001b[0m_original_function\u001b[0m \u001b[0;34m=\u001b[0m \u001b[0mfunc\u001b[0m\u001b[0;34m\u001b[0m\u001b[0m\n\u001b[1;32m     93\u001b[0m         \u001b[0;32mreturn\u001b[0m \u001b[0mwrapper\u001b[0m\u001b[0;34m\u001b[0m\u001b[0m\n",
      "\u001b[0;32m~/anaconda3/envs/mura/lib/python3.6/site-packages/keras/engine/network.py\u001b[0m in \u001b[0;36m__init__\u001b[0;34m(self, *args, **kwargs)\u001b[0m\n\u001b[1;32m     89\u001b[0m                 'inputs' in kwargs and 'outputs' in kwargs):\n\u001b[1;32m     90\u001b[0m             \u001b[0;31m# Graph network\u001b[0m\u001b[0;34m\u001b[0m\u001b[0;34m\u001b[0m\u001b[0m\n\u001b[0;32m---> 91\u001b[0;31m             \u001b[0mself\u001b[0m\u001b[0;34m.\u001b[0m\u001b[0m_init_graph_network\u001b[0m\u001b[0;34m(\u001b[0m\u001b[0;34m*\u001b[0m\u001b[0margs\u001b[0m\u001b[0;34m,\u001b[0m \u001b[0;34m**\u001b[0m\u001b[0mkwargs\u001b[0m\u001b[0;34m)\u001b[0m\u001b[0;34m\u001b[0m\u001b[0m\n\u001b[0m\u001b[1;32m     92\u001b[0m         \u001b[0;32melse\u001b[0m\u001b[0;34m:\u001b[0m\u001b[0;34m\u001b[0m\u001b[0m\n\u001b[1;32m     93\u001b[0m             \u001b[0;31m# Subclassed network\u001b[0m\u001b[0;34m\u001b[0m\u001b[0;34m\u001b[0m\u001b[0m\n",
      "\u001b[0;32m~/anaconda3/envs/mura/lib/python3.6/site-packages/keras/engine/network.py\u001b[0m in \u001b[0;36m_init_graph_network\u001b[0;34m(self, inputs, outputs, name)\u001b[0m\n\u001b[1;32m    233\u001b[0m         \u001b[0;31m# Keep track of the network's nodes and layers.\u001b[0m\u001b[0;34m\u001b[0m\u001b[0;34m\u001b[0m\u001b[0m\n\u001b[1;32m    234\u001b[0m         nodes, nodes_by_depth, layers, layers_by_depth = _map_graph_network(\n\u001b[0;32m--> 235\u001b[0;31m             self.inputs, self.outputs)\n\u001b[0m\u001b[1;32m    236\u001b[0m         \u001b[0mself\u001b[0m\u001b[0;34m.\u001b[0m\u001b[0m_network_nodes\u001b[0m \u001b[0;34m=\u001b[0m \u001b[0mnodes\u001b[0m\u001b[0;34m\u001b[0m\u001b[0m\n\u001b[1;32m    237\u001b[0m         \u001b[0mself\u001b[0m\u001b[0;34m.\u001b[0m\u001b[0m_nodes_by_depth\u001b[0m \u001b[0;34m=\u001b[0m \u001b[0mnodes_by_depth\u001b[0m\u001b[0;34m\u001b[0m\u001b[0m\n",
      "\u001b[0;32m~/anaconda3/envs/mura/lib/python3.6/site-packages/keras/engine/network.py\u001b[0m in \u001b[0;36m_map_graph_network\u001b[0;34m(inputs, outputs)\u001b[0m\n\u001b[1;32m   1487\u001b[0m                                          \u001b[0;34m'The following previous layers '\u001b[0m\u001b[0;34m\u001b[0m\u001b[0m\n\u001b[1;32m   1488\u001b[0m                                          \u001b[0;34m'were accessed without issue: '\u001b[0m \u001b[0;34m+\u001b[0m\u001b[0;34m\u001b[0m\u001b[0m\n\u001b[0;32m-> 1489\u001b[0;31m                                          str(layers_with_complete_input))\n\u001b[0m\u001b[1;32m   1490\u001b[0m                 \u001b[0;32mfor\u001b[0m \u001b[0mx\u001b[0m \u001b[0;32min\u001b[0m \u001b[0mnode\u001b[0m\u001b[0;34m.\u001b[0m\u001b[0moutput_tensors\u001b[0m\u001b[0;34m:\u001b[0m\u001b[0;34m\u001b[0m\u001b[0m\n\u001b[1;32m   1491\u001b[0m                     \u001b[0mcomputable_tensors\u001b[0m\u001b[0;34m.\u001b[0m\u001b[0mappend\u001b[0m\u001b[0;34m(\u001b[0m\u001b[0mx\u001b[0m\u001b[0;34m)\u001b[0m\u001b[0;34m\u001b[0m\u001b[0m\n",
      "\u001b[0;31mValueError\u001b[0m: Graph disconnected: cannot obtain value for tensor Tensor(\"input_2:0\", shape=(?, 256, 256, 1), dtype=float32) at layer \"input_2\". The following previous layers were accessed without issue: []"
     ]
    },
    {
     "name": "stdout",
     "output_type": "stream",
     "text": [
      "time: 38.4 ms\n"
     ]
    }
   ],
   "source": [
    "mid_layer = models.Model(input=parallel_dense.input, output=parallel_dense.get_layer('dense_3').get_output_at(j) for j in range(num_parallel)])\n",
    "mid_out = mid_layer.predict(X)\n",
    "mid_out[0].shape"
   ]
  },
  {
   "cell_type": "code",
   "execution_count": null,
   "metadata": {},
   "outputs": [],
   "source": [
    "mid_out"
   ]
  },
  {
   "cell_type": "code",
   "execution_count": 58,
   "metadata": {},
   "outputs": [
    {
     "data": {
      "text/plain": [
       "(40, 128, 128, 64)"
      ]
     },
     "execution_count": 58,
     "metadata": {},
     "output_type": "execute_result"
    },
    {
     "name": "stdout",
     "output_type": "stream",
     "text": [
      "time: 5.52 s\n"
     ]
    }
   ],
   "source": [
    "mid_layer = models.Model(input=parallel_dense.input, output=[parallel_dense.get_layer('dense_3').get_output_at(j) for j in range(num_parallel)])\n",
    "mid_out = mid_layer.predict(X)\n",
    "mid_out[0].shape"
   ]
  },
  {
   "cell_type": "code",
   "execution_count": null,
   "metadata": {},
   "outputs": [],
   "source": [
    "for j in range(num_parallel):\n",
    "    fig, axes = plt.subplots(8, 8)\n",
    "    fig.set_size_inches(10, 10)\n",
    "    for k in range(64):\n",
    "        axes[k//8, k-(k//8)*8].imshow(mid_out[j][0, :, :, k], cmap='gray')\n",
    "    plt.show()"
   ]
  },
  {
   "cell_type": "code",
   "execution_count": 63,
   "metadata": {},
   "outputs": [
    {
     "data": {
      "text/plain": [
       "(40, 64, 64, 64)"
      ]
     },
     "execution_count": 63,
     "metadata": {},
     "output_type": "execute_result"
    },
    {
     "name": "stdout",
     "output_type": "stream",
     "text": [
      "time: 5.4 s\n"
     ]
    }
   ],
   "source": [
    "mid_layer = models.Model(input=parallel_dense.input, output=[parallel_dense.get_layer('batch_normalization_4').get_output_at(j) for j in range(num_parallel)])\n",
    "mid_out = mid_layer.predict(X)\n",
    "mid_out[0].shape"
   ]
  },
  {
   "cell_type": "code",
   "execution_count": null,
   "metadata": {},
   "outputs": [],
   "source": [
    "for j in range(num_parallel):\n",
    "    fig, axes = plt.subplots(8, 8)\n",
    "    fig.set_size_inches(10, 10)\n",
    "    for k in range(64):\n",
    "        axes[k//8, k-(k//8)*8].imshow(mid_out[j][0, :, :, k], cmap='gray')\n",
    "    plt.show()"
   ]
  },
  {
   "cell_type": "code",
   "execution_count": 65,
   "metadata": {},
   "outputs": [
    {
     "data": {
      "text/plain": [
       "(40, 16, 16, 32)"
      ]
     },
     "execution_count": 65,
     "metadata": {},
     "output_type": "execute_result"
    },
    {
     "name": "stdout",
     "output_type": "stream",
     "text": [
      "time: 7.45 s\n"
     ]
    }
   ],
   "source": [
    "mid_layer = models.Model(input=parallel_dense.input, output=[parallel_dense.get_layer('conv2d_87').get_output_at(j) for j in range(num_parallel)])\n",
    "mid_out = mid_layer.predict(X)\n",
    "mid_out[0].shape"
   ]
  },
  {
   "cell_type": "code",
   "execution_count": null,
   "metadata": {},
   "outputs": [],
   "source": [
    "for j in range(num_parallel):\n",
    "    fig, axes = plt.subplots(4, 8)\n",
    "    fig.set_size_inches(10, 5)\n",
    "    for k in range(32):\n",
    "        axes[k//8, k-(k//8)*8].imshow(mid_out[j][0, :, :, k], cmap='gray')\n",
    "    plt.show()"
   ]
  },
  {
   "cell_type": "code",
   "execution_count": 94,
   "metadata": {},
   "outputs": [
    {
     "data": {
      "text/plain": [
       "(20, 8, 8, 64)"
      ]
     },
     "execution_count": 94,
     "metadata": {},
     "output_type": "execute_result"
    },
    {
     "name": "stdout",
     "output_type": "stream",
     "text": [
      "time: 1min 24s\n"
     ]
    }
   ],
   "source": [
    "for j in range(num_parallel):\n",
    "    plt.imshow(X[j][i, :, :, 0], cmap='gray')\n",
    "    plt.show()"
   ]
  },
  {
   "cell_type": "code",
   "execution_count": null,
   "metadata": {},
   "outputs": [],
   "source": [
    "for j in range(4):\n",
    "    fig, axes = plt.subplots(8, 8)\n",
    "    fig.set_size_inches(10, 10)\n",
    "    for k in range(64):\n",
    "        axes[k//8, k-(k//8)*8].imshow(mid_out[j][0, :, :, k], cmap='gray')\n",
    "    plt.show()"
   ]
  },
  {
   "cell_type": "code",
   "execution_count": 66,
   "metadata": {},
   "outputs": [
    {
     "data": {
      "text/plain": [
       "846031"
      ]
     },
     "execution_count": 66,
     "metadata": {},
     "output_type": "execute_result"
    },
    {
     "name": "stdout",
     "output_type": "stream",
     "text": [
      "time: 5.32 s\n"
     ]
    }
   ],
   "source": [
    "del llyr; gc.collect()"
   ]
  },
  {
   "cell_type": "code",
   "execution_count": 42,
   "metadata": {},
   "outputs": [
    {
     "name": "stdout",
     "output_type": "stream",
     "text": [
      "time: 6.07 s\n"
     ]
    }
   ],
   "source": [
    "Y_hat = parallel_dense.predict(X)"
   ]
  },
  {
   "cell_type": "code",
   "execution_count": 43,
   "metadata": {},
   "outputs": [
    {
     "data": {
      "text/plain": [
       "array([[0.37785596],\n",
       "       [0.2780852 ],\n",
       "       [0.36574203],\n",
       "       [0.37818438],\n",
       "       [0.35658923],\n",
       "       [0.34634638],\n",
       "       [0.41804618],\n",
       "       [0.35949746],\n",
       "       [0.4036451 ],\n",
       "       [0.36646327],\n",
       "       [0.37244874],\n",
       "       [0.34736252],\n",
       "       [0.3810374 ],\n",
       "       [0.33111703],\n",
       "       [0.3777128 ],\n",
       "       [0.36103788]], dtype=float32)"
      ]
     },
     "execution_count": 43,
     "metadata": {},
     "output_type": "execute_result"
    },
    {
     "name": "stdout",
     "output_type": "stream",
     "text": [
      "time: 3.72 ms\n"
     ]
    }
   ],
   "source": [
    "Y_hat"
   ]
  },
  {
   "cell_type": "code",
   "execution_count": 44,
   "metadata": {},
   "outputs": [
    {
     "data": {
      "text/plain": [
       "array([1., 0., 0., 1., 0., 0., 1., 0., 0., 0., 1., 0., 0., 1., 1., 0.])"
      ]
     },
     "execution_count": 44,
     "metadata": {},
     "output_type": "execute_result"
    },
    {
     "name": "stdout",
     "output_type": "stream",
     "text": [
      "time: 3.7 ms\n"
     ]
    }
   ],
   "source": [
    "Y"
   ]
  },
  {
   "cell_type": "code",
   "execution_count": null,
   "metadata": {},
   "outputs": [],
   "source": [
    "parallel_dense.summary()"
   ]
  },
  {
   "cell_type": "code",
   "execution_count": null,
   "metadata": {},
   "outputs": [],
   "source": []
  },
  {
   "cell_type": "code",
   "execution_count": null,
   "metadata": {},
   "outputs": [],
   "source": []
  },
  {
   "cell_type": "code",
   "execution_count": null,
   "metadata": {},
   "outputs": [],
   "source": []
  },
  {
   "cell_type": "code",
   "execution_count": null,
   "metadata": {},
   "outputs": [],
   "source": []
  },
  {
   "cell_type": "code",
   "execution_count": null,
   "metadata": {},
   "outputs": [],
   "source": []
  },
  {
   "cell_type": "code",
   "execution_count": 92,
   "metadata": {},
   "outputs": [
    {
     "name": "stdout",
     "output_type": "stream",
     "text": [
      "time: 95.3 ms\n"
     ]
    }
   ],
   "source": [
    "X, Y = datagen.flow(x_train, y_train, batch_size=batch_size).__next__()"
   ]
  },
  {
   "cell_type": "code",
   "execution_count": 93,
   "metadata": {},
   "outputs": [
    {
     "name": "stdout",
     "output_type": "stream",
     "text": [
      "time: 2min 10s\n"
     ]
    }
   ],
   "source": [
    "Y_hat = submodel.predict(X)"
   ]
  },
  {
   "cell_type": "code",
   "execution_count": 94,
   "metadata": {},
   "outputs": [
    {
     "data": {
      "text/plain": [
       "array([[4.50249910e-01],\n",
       "       [4.11489427e-01],\n",
       "       [4.51364875e-01],\n",
       "       [4.75237966e-01],\n",
       "       [4.68280166e-01],\n",
       "       [4.45379734e-01],\n",
       "       [4.56905723e-01],\n",
       "       [5.21016598e-01],\n",
       "       [3.48092943e-01],\n",
       "       [4.14206177e-01],\n",
       "       [4.29860085e-01],\n",
       "       [4.67342854e-01],\n",
       "       [4.61505890e-01],\n",
       "       [4.68058079e-01],\n",
       "       [1.00747635e-33],\n",
       "       [4.71889734e-01]], dtype=float32)"
      ]
     },
     "execution_count": 94,
     "metadata": {},
     "output_type": "execute_result"
    },
    {
     "name": "stdout",
     "output_type": "stream",
     "text": [
      "time: 4.3 ms\n"
     ]
    }
   ],
   "source": [
    "Y_hat"
   ]
  },
  {
   "cell_type": "code",
   "execution_count": 95,
   "metadata": {},
   "outputs": [
    {
     "data": {
      "text/plain": [
       "array([0, 0, 1, 0, 1, 1, 0, 1, 0, 1, 0, 1, 0, 1, 1, 1])"
      ]
     },
     "execution_count": 95,
     "metadata": {},
     "output_type": "execute_result"
    },
    {
     "name": "stdout",
     "output_type": "stream",
     "text": [
      "time: 3.62 ms\n"
     ]
    }
   ],
   "source": [
    "Y"
   ]
  },
  {
   "cell_type": "code",
   "execution_count": 96,
   "metadata": {},
   "outputs": [
    {
     "name": "stdout",
     "output_type": "stream",
     "text": [
      "time: 2.89 s\n"
     ]
    }
   ],
   "source": [
    "plot_model(submodel, 'submodel.png')"
   ]
  },
  {
   "cell_type": "code",
   "execution_count": null,
   "metadata": {},
   "outputs": [],
   "source": []
  }
 ],
 "metadata": {
  "kernelspec": {
   "display_name": "Python 3",
   "language": "python",
   "name": "python3"
  },
  "language_info": {
   "codemirror_mode": {
    "name": "ipython",
    "version": 3
   },
   "file_extension": ".py",
   "mimetype": "text/x-python",
   "name": "python",
   "nbconvert_exporter": "python",
   "pygments_lexer": "ipython3",
   "version": "3.6.5"
  }
 },
 "nbformat": 4,
 "nbformat_minor": 2
}
