{
 "cells": [
  {
   "cell_type": "markdown",
   "metadata": {},
   "source": [
    "# Trying with using max over outputs"
   ]
  },
  {
   "cell_type": "code",
   "execution_count": 1,
   "metadata": {},
   "outputs": [],
   "source": [
    "%load_ext autotime"
   ]
  },
  {
   "cell_type": "code",
   "execution_count": 2,
   "metadata": {},
   "outputs": [
    {
     "name": "stderr",
     "output_type": "stream",
     "text": [
      "Using TensorFlow backend.\n"
     ]
    },
    {
     "name": "stdout",
     "output_type": "stream",
     "text": [
      "time: 1.16 s\n"
     ]
    }
   ],
   "source": [
    "import numpy as np\n",
    "from matplotlib import pyplot as plt\n",
    "%matplotlib inline\n",
    "from keras.applications.densenet import DenseNet121\n",
    "from keras.utils import np_utils\n",
    "from keras.utils import to_categorical\n",
    "from keras.models import load_model\n",
    "from keras.preprocessing.image import ImageDataGenerator\n",
    "from keras import layers\n",
    "from keras import optimizers\n",
    "from keras import metrics\n",
    "from keras import models\n",
    "\n",
    "from keras.utils import plot_model\n",
    "from IPython.display import SVG\n",
    "from keras.utils.vis_utils import model_to_dot\n",
    "\n",
    "\n",
    "from pathlib import Path\n",
    "import pickle\n",
    "\n",
    "import warnings\n",
    "warnings.filterwarnings('ignore')"
   ]
  },
  {
   "cell_type": "code",
   "execution_count": 3,
   "metadata": {},
   "outputs": [
    {
     "name": "stdout",
     "output_type": "stream",
     "text": [
      "time: 755 ms\n"
     ]
    }
   ],
   "source": [
    "import tensorflow as tf\n",
    "from keras import backend as K\n",
    "config = tf.ConfigProto()\n",
    "config.gpu_options.allow_growth=True\n",
    "sess = tf.Session(config=config)\n",
    "K.set_session(sess)"
   ]
  },
  {
   "cell_type": "code",
   "execution_count": 4,
   "metadata": {},
   "outputs": [
    {
     "name": "stdout",
     "output_type": "stream",
     "text": [
      "time: 4.25 s\n"
     ]
    }
   ],
   "source": [
    "import utils # importing from our utils functions"
   ]
  },
  {
   "cell_type": "code",
   "execution_count": 5,
   "metadata": {},
   "outputs": [
    {
     "name": "stdout",
     "output_type": "stream",
     "text": [
      "time: 5.73 ms\n"
     ]
    }
   ],
   "source": [
    "from utils.paralleldensenet121 import ParallelDenseNet121"
   ]
  },
  {
   "cell_type": "code",
   "execution_count": 6,
   "metadata": {},
   "outputs": [
    {
     "name": "stdout",
     "output_type": "stream",
     "text": [
      "time: 4.92 ms\n"
     ]
    }
   ],
   "source": [
    "from keras.layers import merge"
   ]
  },
  {
   "cell_type": "code",
   "execution_count": 7,
   "metadata": {},
   "outputs": [
    {
     "name": "stdout",
     "output_type": "stream",
     "text": [
      "time: 42.3 s\n"
     ]
    }
   ],
   "source": [
    "parallel_dense = ParallelDenseNet121(classes=1, nchannels=1, input_size=256, num_gpu=2)"
   ]
  },
  {
   "cell_type": "code",
   "execution_count": 8,
   "metadata": {},
   "outputs": [
    {
     "name": "stdout",
     "output_type": "stream",
     "text": [
      "time: 2.21 s\n"
     ]
    }
   ],
   "source": [
    "plot_model(parallel_dense)"
   ]
  },
  {
   "cell_type": "code",
   "execution_count": null,
   "metadata": {},
   "outputs": [],
   "source": [
    "parallel_dense.summary()"
   ]
  },
  {
   "cell_type": "code",
   "execution_count": 10,
   "metadata": {},
   "outputs": [
    {
     "name": "stderr",
     "output_type": "stream",
     "text": [
      "INFO:utils.utils:loading data/MURA-v1.1/x_train.pkl\n",
      "INFO:utils.utils:loading data/MURA-v1.1/y_train.pkl\n",
      "INFO:utils.utils:loading data/MURA-v1.1/x_valid.pkl\n",
      "INFO:utils.utils:loading data/MURA-v1.1/y_valid.pkl\n"
     ]
    },
    {
     "name": "stdout",
     "output_type": "stream",
     "text": [
      "time: 2.18 s\n"
     ]
    }
   ],
   "source": [
    "x_train, y_train, x_test, y_test = utils.read_mura_pickle()"
   ]
  },
  {
   "cell_type": "code",
   "execution_count": 11,
   "metadata": {},
   "outputs": [
    {
     "data": {
      "text/plain": [
       "(36808, 256, 256)"
      ]
     },
     "execution_count": 11,
     "metadata": {},
     "output_type": "execute_result"
    },
    {
     "name": "stdout",
     "output_type": "stream",
     "text": [
      "time: 1.76 ms\n"
     ]
    }
   ],
   "source": [
    "x_train.shape"
   ]
  },
  {
   "cell_type": "code",
   "execution_count": 12,
   "metadata": {},
   "outputs": [
    {
     "name": "stdout",
     "output_type": "stream",
     "text": [
      "time: 3.86 ms\n"
     ]
    }
   ],
   "source": [
    "size = x_train.shape[1]"
   ]
  },
  {
   "cell_type": "code",
   "execution_count": 13,
   "metadata": {},
   "outputs": [
    {
     "name": "stdout",
     "output_type": "stream",
     "text": [
      "time: 14.7 ms\n"
     ]
    }
   ],
   "source": [
    "with Path('./data/MURA-v1.1/train_groups.pkl').open('rb') as pkl_file:\n",
    "    train_groups = pickle.load(pkl_file)"
   ]
  },
  {
   "cell_type": "code",
   "execution_count": 14,
   "metadata": {},
   "outputs": [
    {
     "name": "stdout",
     "output_type": "stream",
     "text": [
      "time: 8.96 ms\n"
     ]
    }
   ],
   "source": [
    "n_studies = train_groups.groupby(['body_part', 'patient_id', 'study_id'])[0].count().count()"
   ]
  },
  {
   "cell_type": "code",
   "execution_count": 15,
   "metadata": {},
   "outputs": [
    {
     "name": "stdout",
     "output_type": "stream",
     "text": [
      "time: 13.7 ms\n"
     ]
    }
   ],
   "source": [
    "train_indices = train_groups.reset_index().groupby(['body_part', 'patient_id', 'study_id'])['index'].min().reset_index().sort_values('index').reset_index(drop=True)"
   ]
  },
  {
   "cell_type": "code",
   "execution_count": 16,
   "metadata": {},
   "outputs": [
    {
     "data": {
      "text/html": [
       "<div>\n",
       "<style scoped>\n",
       "    .dataframe tbody tr th:only-of-type {\n",
       "        vertical-align: middle;\n",
       "    }\n",
       "\n",
       "    .dataframe tbody tr th {\n",
       "        vertical-align: top;\n",
       "    }\n",
       "\n",
       "    .dataframe thead th {\n",
       "        text-align: right;\n",
       "    }\n",
       "</style>\n",
       "<table border=\"1\" class=\"dataframe\">\n",
       "  <thead>\n",
       "    <tr style=\"text-align: right;\">\n",
       "      <th></th>\n",
       "      <th>body_part</th>\n",
       "      <th>patient_id</th>\n",
       "      <th>study_id</th>\n",
       "      <th>index</th>\n",
       "    </tr>\n",
       "  </thead>\n",
       "  <tbody>\n",
       "    <tr>\n",
       "      <th>0</th>\n",
       "      <td>shoulder</td>\n",
       "      <td>1</td>\n",
       "      <td>1</td>\n",
       "      <td>0</td>\n",
       "    </tr>\n",
       "    <tr>\n",
       "      <th>1</th>\n",
       "      <td>shoulder</td>\n",
       "      <td>2</td>\n",
       "      <td>1</td>\n",
       "      <td>3</td>\n",
       "    </tr>\n",
       "    <tr>\n",
       "      <th>2</th>\n",
       "      <td>shoulder</td>\n",
       "      <td>3</td>\n",
       "      <td>1</td>\n",
       "      <td>6</td>\n",
       "    </tr>\n",
       "    <tr>\n",
       "      <th>3</th>\n",
       "      <td>shoulder</td>\n",
       "      <td>4</td>\n",
       "      <td>1</td>\n",
       "      <td>9</td>\n",
       "    </tr>\n",
       "    <tr>\n",
       "      <th>4</th>\n",
       "      <td>shoulder</td>\n",
       "      <td>5</td>\n",
       "      <td>1</td>\n",
       "      <td>13</td>\n",
       "    </tr>\n",
       "  </tbody>\n",
       "</table>\n",
       "</div>"
      ],
      "text/plain": [
       "  body_part  patient_id  study_id  index\n",
       "0  shoulder           1         1      0\n",
       "1  shoulder           2         1      3\n",
       "2  shoulder           3         1      6\n",
       "3  shoulder           4         1      9\n",
       "4  shoulder           5         1     13"
      ]
     },
     "execution_count": 16,
     "metadata": {},
     "output_type": "execute_result"
    },
    {
     "name": "stdout",
     "output_type": "stream",
     "text": [
      "time: 7.8 ms\n"
     ]
    }
   ],
   "source": [
    "train_indices.head()"
   ]
  },
  {
   "cell_type": "code",
   "execution_count": 17,
   "metadata": {},
   "outputs": [
    {
     "name": "stdout",
     "output_type": "stream",
     "text": [
      "time: 869 µs\n"
     ]
    }
   ],
   "source": [
    "x_train_study = np.zeros(shape=(n_studies, size, size, 4))\n",
    "y_train_study = np.zeros(shape=(n_studies,))"
   ]
  },
  {
   "cell_type": "code",
   "execution_count": 18,
   "metadata": {},
   "outputs": [
    {
     "name": "stdout",
     "output_type": "stream",
     "text": [
      "(13457, 256, 256, 4)\n",
      "(13457,)\n",
      "time: 2.1 ms\n"
     ]
    }
   ],
   "source": [
    "print(x_train_study.shape)\n",
    "print(y_train_study.shape)"
   ]
  },
  {
   "cell_type": "code",
   "execution_count": 19,
   "metadata": {},
   "outputs": [
    {
     "name": "stdout",
     "output_type": "stream",
     "text": [
      "time: 12.7 s\n"
     ]
    }
   ],
   "source": [
    "for i in range(n_studies):\n",
    "    cur_index = train_indices.iloc[i]['index']\n",
    "    if i < n_studies - 1:\n",
    "        next_study_index = train_indices.iloc[i+1]['index']\n",
    "    else:\n",
    "        next_study_index = x_train.shape[0]\n",
    "    for j in range(4):\n",
    "        if cur_index < next_study_index:\n",
    "            x_train_study[i, :, :, j] = x_train[cur_index, :, :]\n",
    "            y_train_study[i] = y_train[cur_index]\n",
    "        else:\n",
    "            break\n",
    "        cur_index = cur_index + 1"
   ]
  },
  {
   "cell_type": "code",
   "execution_count": 20,
   "metadata": {},
   "outputs": [
    {
     "data": {
      "text/plain": [
       "264260"
      ]
     },
     "execution_count": 20,
     "metadata": {},
     "output_type": "execute_result"
    },
    {
     "name": "stdout",
     "output_type": "stream",
     "text": [
      "time: 558 ms\n"
     ]
    }
   ],
   "source": [
    "del x_train, y_train\n",
    "import gc; gc.collect()"
   ]
  },
  {
   "cell_type": "markdown",
   "metadata": {},
   "source": [
    "Double checking if images are correct"
   ]
  },
  {
   "cell_type": "code",
   "execution_count": 21,
   "metadata": {},
   "outputs": [
    {
     "name": "stdout",
     "output_type": "stream",
     "text": [
      "1.0\n"
     ]
    },
    {
     "data": {
      "image/png": "[encoded data removed]",
      "text/plain": [
       "<Figure size 432x288 with 1 Axes>"
      ]
     },
     "metadata": {},
     "output_type": "display_data"
    },
    {
     "data": {
      "image/png": "[encoded data removed]",
      "text/plain": [
       "<Figure size 432x288 with 1 Axes>"
      ]
     },
     "metadata": {},
     "output_type": "display_data"
    },
    {
     "data": {
      "image/png": "[encoded data removed]",
      "text/plain": [
       "<Figure size 432x288 with 1 Axes>"
      ]
     },
     "metadata": {},
     "output_type": "display_data"
    },
    {
     "data": {
      "image/png": "[encoded data removed]",
      "text/plain": [
       "<Figure size 432x288 with 1 Axes>"
      ]
     },
     "metadata": {},
     "output_type": "display_data"
    },
    {
     "name": "stdout",
     "output_type": "stream",
     "text": [
      "time: 355 ms\n"
     ]
    }
   ],
   "source": [
    "print(y_train_study[0])\n",
    "for j in range(4):\n",
    "    plt.imshow(x_train_study[0, :, :, j], cmap='gray')\n",
    "    plt.show()"
   ]
  },
  {
   "cell_type": "code",
   "execution_count": 22,
   "metadata": {},
   "outputs": [
    {
     "name": "stdout",
     "output_type": "stream",
     "text": [
      "time: 12.8 ms\n"
     ]
    }
   ],
   "source": [
    "adam = optimizers.Adam()# amsgrad=True)"
   ]
  },
  {
   "cell_type": "code",
   "execution_count": 23,
   "metadata": {},
   "outputs": [
    {
     "name": "stdout",
     "output_type": "stream",
     "text": [
      "time: 8.06 ms\n"
     ]
    }
   ],
   "source": [
    "sgd = optimizers.SGD(lr=0.1, momentum=0.9)"
   ]
  },
  {
   "cell_type": "code",
   "execution_count": 24,
   "metadata": {},
   "outputs": [
    {
     "name": "stdout",
     "output_type": "stream",
     "text": [
      "time: 31 ms\n"
     ]
    }
   ],
   "source": [
    "parallel_dense.compile(loss='binary_crossentropy',\n",
    "              optimizer=adam,\n",
    "              metrics=[metrics.binary_accuracy])"
   ]
  },
  {
   "cell_type": "markdown",
   "metadata": {},
   "source": [
    "Write image generator"
   ]
  },
  {
   "cell_type": "code",
   "execution_count": 25,
   "metadata": {},
   "outputs": [
    {
     "name": "stdout",
     "output_type": "stream",
     "text": [
      "time: 3.98 ms\n"
     ]
    }
   ],
   "source": [
    "\n",
    "def preprocess_images(images, datagen):\n",
    "    X = np.zeros((len(images), images[0].shape[0], images[0].shape[1], 1))\n",
    "    for i, image in enumerate(images):\n",
    "        X[i, :, :, :] = datagen.random_transform(image)\n",
    "    return X\n",
    "\n",
    "def quad_image_generator(input_x, input_y, batch_size, imgsize=256):\n",
    "    datagen_args = dict(rotation_range=360,\n",
    "        width_shift_range=0.1,\n",
    "        height_shift_range=0.1,\n",
    "        shear_range=0.05,\n",
    "        zoom_range=[1, 1.2],\n",
    "        fill_mode = 'constant',\n",
    "        cval=0,\n",
    "        horizontal_flip=True,\n",
    "        vertical_flip=True)\n",
    "    datagens = [None] * 4\n",
    "    for j in range(4):\n",
    "        datagens[j] = ImageDataGenerator(**datagen_args)\n",
    "        # datagens[j].fit(np.reshape(input_x[:, :, :, j], (n_studies, size, size, 1)))\n",
    "        \n",
    "    X = [None] * 4\n",
    "    while True:\n",
    "        # loop once per epoch\n",
    "        num_recs = len(input_x)\n",
    "        indices = np.arange(num_recs) # np.random.permutation(np.arange(num_recs))\n",
    "        num_batches = num_recs // batch_size\n",
    "        for bid in range(num_batches):\n",
    "            # loop once per batch\n",
    "            batch_indices = indices[bid * batch_size : (bid + 1) * batch_size]\n",
    "            batch = [input_x[i, :, :, :] for i in batch_indices]\n",
    "            # make sure image data generators generate same transformations\n",
    "            for j in range(4):\n",
    "                X[j] = preprocess_images(\n",
    "                    [np.reshape(\n",
    "                        b[:, :, j], (imgsize, imgsize, 1)) \n",
    "                     for b in batch], datagens[j])\n",
    "            Y = np.array([input_y[i] for i in batch_indices])\n",
    "            yield X, Y"
   ]
  },
  {
   "cell_type": "code",
   "execution_count": 26,
   "metadata": {},
   "outputs": [
    {
     "name": "stdout",
     "output_type": "stream",
     "text": [
      "time: 2.52 ms\n"
     ]
    }
   ],
   "source": [
    "imgen = quad_image_generator(x_train_study, y_train_study, batch_size=20)"
   ]
  },
  {
   "cell_type": "code",
   "execution_count": null,
   "metadata": {},
   "outputs": [
    {
     "name": "stdout",
     "output_type": "stream",
     "text": [
      "Epoch 1/100\n",
      " - 616s - loss: 0.5235 - binary_accuracy: 0.7579\n",
      "Epoch 2/100\n"
     ]
    }
   ],
   "source": [
    "parallel_dense.fit_generator(imgen, steps_per_epoch = len(x_train_study) / 20, epochs=100, verbose=2)"
   ]
  },
  {
   "cell_type": "markdown",
   "metadata": {},
   "source": [
    "# Diagnose"
   ]
  },
  {
   "cell_type": "code",
   "execution_count": 27,
   "metadata": {},
   "outputs": [
    {
     "name": "stdout",
     "output_type": "stream",
     "text": [
      "time: 407 ms\n"
     ]
    }
   ],
   "source": [
    "X, Y = imgen.__next__()"
   ]
  },
  {
   "cell_type": "code",
   "execution_count": 28,
   "metadata": {},
   "outputs": [
    {
     "data": {
      "text/plain": [
       "(20, 256, 256, 1)"
      ]
     },
     "execution_count": 28,
     "metadata": {},
     "output_type": "execute_result"
    },
    {
     "name": "stdout",
     "output_type": "stream",
     "text": [
      "time: 1.61 ms\n"
     ]
    }
   ],
   "source": [
    "X[1].shape"
   ]
  },
  {
   "cell_type": "code",
   "execution_count": 29,
   "metadata": {},
   "outputs": [
    {
     "data": {
      "text/plain": [
       "array([[0., 0., 0., ..., 0., 0., 0.],\n",
       "       [0., 0., 0., ..., 0., 0., 0.],\n",
       "       [0., 0., 0., ..., 0., 0., 0.],\n",
       "       ...,\n",
       "       [0., 0., 0., ..., 0., 0., 0.],\n",
       "       [0., 0., 0., ..., 0., 0., 0.],\n",
       "       [0., 0., 0., ..., 0., 0., 0.]])"
      ]
     },
     "execution_count": 29,
     "metadata": {},
     "output_type": "execute_result"
    },
    {
     "name": "stdout",
     "output_type": "stream",
     "text": [
      "time: 3.78 ms\n"
     ]
    }
   ],
   "source": [
    "X[0][0, :, :, 0]"
   ]
  },
  {
   "cell_type": "code",
   "execution_count": 30,
   "metadata": {},
   "outputs": [
    {
     "name": "stdout",
     "output_type": "stream",
     "text": [
      "time: 726 µs\n"
     ]
    }
   ],
   "source": [
    "i=4"
   ]
  },
  {
   "cell_type": "code",
   "execution_count": 31,
   "metadata": {},
   "outputs": [
    {
     "data": {
      "text/plain": [
       "1.0"
      ]
     },
     "execution_count": 31,
     "metadata": {},
     "output_type": "execute_result"
    },
    {
     "name": "stdout",
     "output_type": "stream",
     "text": [
      "time: 4.99 ms\n"
     ]
    }
   ],
   "source": [
    "Y[i]"
   ]
  },
  {
   "cell_type": "code",
   "execution_count": 32,
   "metadata": {},
   "outputs": [
    {
     "data": {
      "image/png": "[encoded data removed]",
      "text/plain": [
       "<Figure size 432x288 with 1 Axes>"
      ]
     },
     "metadata": {},
     "output_type": "display_data"
    },
    {
     "data": {
      "image/png": "[encoded data removed]",
      "text/plain": [
       "<Figure size 432x288 with 1 Axes>"
      ]
     },
     "metadata": {},
     "output_type": "display_data"
    },
    {
     "data": {
      "image/png": "[encoded data removed]",
      "text/plain": [
       "<Figure size 432x288 with 1 Axes>"
      ]
     },
     "metadata": {},
     "output_type": "display_data"
    },
    {
     "data": {
      "image/png": "[encoded data removed]",
      "text/plain": [
       "<Figure size 432x288 with 1 Axes>"
      ]
     },
     "metadata": {},
     "output_type": "display_data"
    },
    {
     "name": "stdout",
     "output_type": "stream",
     "text": [
      "time: 506 ms\n"
     ]
    }
   ],
   "source": [
    "for j in range(4):\n",
    "    plt.imshow(X[j][i, :, :, 0], cmap='gray')\n",
    "    plt.show()"
   ]
  },
  {
   "cell_type": "code",
   "execution_count": 9,
   "metadata": {},
   "outputs": [
    {
     "data": {
      "text/plain": [
       "<function keras.activations.sigmoid(x)>"
      ]
     },
     "execution_count": 9,
     "metadata": {},
     "output_type": "execute_result"
    },
    {
     "name": "stdout",
     "output_type": "stream",
     "text": [
      "time: 19.6 ms\n"
     ]
    }
   ],
   "source": [
    "lyr = parallel_dense.get_layer('prob')\n",
    "lyr.activation"
   ]
  },
  {
   "cell_type": "code",
   "execution_count": 34,
   "metadata": {},
   "outputs": [
    {
     "name": "stdout",
     "output_type": "stream",
     "text": [
      "time: 755 ms\n"
     ]
    }
   ],
   "source": [
    "last_layer = models.Model(input=parallel_dense.input, output=[parallel_dense.get_layer('prob').get_output_at(j) for j in range(4)])"
   ]
  },
  {
   "cell_type": "code",
   "execution_count": 40,
   "metadata": {},
   "outputs": [
    {
     "name": "stdout",
     "output_type": "stream",
     "text": [
      "time: 284 ms\n"
     ]
    }
   ],
   "source": [
    "llyr = last_layer.predict(X)"
   ]
  },
  {
   "cell_type": "code",
   "execution_count": 41,
   "metadata": {},
   "outputs": [
    {
     "data": {
      "text/plain": [
       "[array([[1.9595468],\n",
       "        [1.9595456],\n",
       "        [1.9595482],\n",
       "        [1.9595456],\n",
       "        [1.9595468],\n",
       "        [1.8895068],\n",
       "        [1.0477526],\n",
       "        [1.9595506],\n",
       "        [1.9595475],\n",
       "        [1.9596124],\n",
       "        [1.9595461],\n",
       "        [1.9595459],\n",
       "        [1.9595459],\n",
       "        [1.1385181],\n",
       "        [1.9595454],\n",
       "        [1.9595487],\n",
       "        [1.9595456],\n",
       "        [1.8335991],\n",
       "        [1.9595463],\n",
       "        [1.9595494]], dtype=float32), array([[1.9595487],\n",
       "        [1.9595456],\n",
       "        [1.9595492],\n",
       "        [1.9595456],\n",
       "        [1.9595454],\n",
       "        [1.9595485],\n",
       "        [1.9596274],\n",
       "        [0.553071 ],\n",
       "        [1.9595456],\n",
       "        [1.0609684],\n",
       "        [1.9595466],\n",
       "        [1.9595454],\n",
       "        [1.9595456],\n",
       "        [1.9595454],\n",
       "        [1.9595459],\n",
       "        [1.9595444],\n",
       "        [1.9595463],\n",
       "        [1.9595463],\n",
       "        [1.9595459],\n",
       "        [1.9513025]], dtype=float32), array([[1.9595487],\n",
       "        [1.9595487],\n",
       "        [1.9595473],\n",
       "        [1.9595456],\n",
       "        [1.9595454],\n",
       "        [1.9595456],\n",
       "        [1.8029025],\n",
       "        [1.9595461],\n",
       "        [1.1071918],\n",
       "        [1.9595492],\n",
       "        [1.9595456],\n",
       "        [1.8340545],\n",
       "        [1.7926073],\n",
       "        [1.9595459],\n",
       "        [1.9595456],\n",
       "        [1.002646 ],\n",
       "        [1.9595456],\n",
       "        [1.9595475],\n",
       "        [1.959547 ],\n",
       "        [1.959548 ]], dtype=float32), array([[1.9595456],\n",
       "        [1.9595456],\n",
       "        [1.9595456],\n",
       "        [1.9595456],\n",
       "        [1.9595456],\n",
       "        [1.9595456],\n",
       "        [1.9595456],\n",
       "        [1.9595456],\n",
       "        [1.9595456],\n",
       "        [1.9595456],\n",
       "        [1.9595456],\n",
       "        [1.9595456],\n",
       "        [1.9595456],\n",
       "        [1.9595456],\n",
       "        [1.9595456],\n",
       "        [1.9595456],\n",
       "        [1.9595456],\n",
       "        [1.9595456],\n",
       "        [1.9595456],\n",
       "        [1.9595463]], dtype=float32)]"
      ]
     },
     "execution_count": 41,
     "metadata": {},
     "output_type": "execute_result"
    },
    {
     "name": "stdout",
     "output_type": "stream",
     "text": [
      "time: 8.27 ms\n"
     ]
    }
   ],
   "source": [
    "llyr"
   ]
  },
  {
   "cell_type": "code",
   "execution_count": 36,
   "metadata": {},
   "outputs": [
    {
     "name": "stdout",
     "output_type": "stream",
     "text": [
      "time: 7.76 s\n"
     ]
    }
   ],
   "source": [
    "Y_hat = parallel_dense.predict(X)"
   ]
  },
  {
   "cell_type": "code",
   "execution_count": 37,
   "metadata": {},
   "outputs": [
    {
     "data": {
      "text/plain": [
       "array([[1.9595487],\n",
       "       [1.9595487],\n",
       "       [1.9595492],\n",
       "       [1.9595456],\n",
       "       [1.9595468],\n",
       "       [1.9595485],\n",
       "       [1.9596274],\n",
       "       [1.9595506],\n",
       "       [1.9595475],\n",
       "       [1.9596124],\n",
       "       [1.9595466],\n",
       "       [1.9595459],\n",
       "       [1.9595459],\n",
       "       [1.9595459],\n",
       "       [1.9595459],\n",
       "       [1.9595487],\n",
       "       [1.9595463],\n",
       "       [1.9595475],\n",
       "       [1.959547 ],\n",
       "       [1.9595494]], dtype=float32)"
      ]
     },
     "execution_count": 37,
     "metadata": {},
     "output_type": "execute_result"
    },
    {
     "name": "stdout",
     "output_type": "stream",
     "text": [
      "time: 2.27 ms\n"
     ]
    }
   ],
   "source": [
    "Y_hat"
   ]
  },
  {
   "cell_type": "code",
   "execution_count": 47,
   "metadata": {},
   "outputs": [
    {
     "data": {
      "text/plain": [
       "array([1., 1., 1., 1., 1., 0., 1., 1., 1., 1., 1., 1., 1., 1., 1., 1., 1.,\n",
       "       1., 1., 1.])"
      ]
     },
     "execution_count": 47,
     "metadata": {},
     "output_type": "execute_result"
    },
    {
     "name": "stdout",
     "output_type": "stream",
     "text": [
      "time: 4.62 ms\n"
     ]
    }
   ],
   "source": [
    "Y"
   ]
  },
  {
   "cell_type": "code",
   "execution_count": null,
   "metadata": {},
   "outputs": [],
   "source": [
    "parallel_dense.summary()"
   ]
  },
  {
   "cell_type": "code",
   "execution_count": null,
   "metadata": {},
   "outputs": [],
   "source": []
  }
 ],
 "metadata": {
  "kernelspec": {
   "display_name": "Python 3",
   "language": "python",
   "name": "python3"
  },
  "language_info": {
   "codemirror_mode": {
    "name": "ipython",
    "version": 3
   },
   "file_extension": ".py",
   "mimetype": "text/x-python",
   "name": "python",
   "nbconvert_exporter": "python",
   "pygments_lexer": "ipython3",
   "version": "3.6.5"
  }
 },
 "nbformat": 4,
 "nbformat_minor": 2
}
