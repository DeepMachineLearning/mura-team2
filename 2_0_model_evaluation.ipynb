{
 "cells": [
  {
   "cell_type": "markdown",
   "metadata": {},
   "source": [
    "# Model Evaluation\n",
    "Will formalize into functions later"
   ]
  },
  {
   "cell_type": "code",
   "execution_count": 1,
   "metadata": {},
   "outputs": [],
   "source": [
    "%load_ext autotime"
   ]
  },
  {
   "cell_type": "code",
   "execution_count": 2,
   "metadata": {},
   "outputs": [
    {
     "name": "stderr",
     "output_type": "stream",
     "text": [
      "Using TensorFlow backend.\n"
     ]
    },
    {
     "name": "stdout",
     "output_type": "stream",
     "text": [
      "time: 4.26 s\n"
     ]
    }
   ],
   "source": [
    "import pandas as pd\n",
    "import numpy as np\n",
    "import pickle\n",
    "\n",
    "import keras\n",
    "from keras.utils import np_utils\n",
    "from keras.utils import to_categorical\n",
    "from keras.models import load_model\n",
    "\n",
    "from pathlib import Path\n",
    "from matplotlib import pyplot as plt\n",
    "%matplotlib inline\n",
    "\n",
    "import utils"
   ]
  },
  {
   "cell_type": "code",
   "execution_count": 3,
   "metadata": {},
   "outputs": [
    {
     "name": "stdout",
     "output_type": "stream",
     "text": [
      "time: 674 ms\n"
     ]
    }
   ],
   "source": [
    "import tensorflow as tf\n",
    "from keras import backend as K\n",
    "config = tf.ConfigProto()\n",
    "config.gpu_options.allow_growth=True\n",
    "sess = tf.Session(config=config)\n",
    "K.set_session(sess)"
   ]
  },
  {
   "cell_type": "code",
   "execution_count": 22,
   "metadata": {},
   "outputs": [
    {
     "name": "stderr",
     "output_type": "stream",
     "text": [
      "INFO:utils.utils:loading data/MURA-v1.1/x_valid.pkl\n",
      "INFO:utils.utils:loading data/MURA-v1.1/y_valid.pkl\n"
     ]
    },
    {
     "name": "stdout",
     "output_type": "stream",
     "text": [
      "time: 302 ms\n"
     ]
    }
   ],
   "source": [
    "x_test, y_test = utils.read_mura_pickle(sample='valid')"
   ]
  },
  {
   "cell_type": "code",
   "execution_count": 25,
   "metadata": {},
   "outputs": [
    {
     "name": "stdout",
     "output_type": "stream",
     "text": [
      "time: 437 ms\n"
     ]
    }
   ],
   "source": [
    "size = x_test.shape[1]\n",
    "x_test = x_test.reshape(x_test.shape[0], size, size, 1)\n",
    "x_test = utils.normalize_pixels(x_test)\n",
    "y_test = to_categorical(y_test)"
   ]
  },
  {
   "cell_type": "code",
   "execution_count": 13,
   "metadata": {},
   "outputs": [
    {
     "name": "stdout",
     "output_type": "stream",
     "text": [
      "time: 42.1 s\n"
     ]
    }
   ],
   "source": [
    "with tf.device('/GPU:1'):\n",
    "    model = load_model('./trained_models/1_3_densenet201_mura_250.h5')"
   ]
  },
  {
   "cell_type": "code",
   "execution_count": 14,
   "metadata": {},
   "outputs": [
    {
     "name": "stdout",
     "output_type": "stream",
     "text": [
      "time: 27.4 s\n"
     ]
    }
   ],
   "source": [
    "y_test_hat = model.predict(x_test)"
   ]
  },
  {
   "cell_type": "code",
   "execution_count": 26,
   "metadata": {},
   "outputs": [
    {
     "name": "stdout",
     "output_type": "stream",
     "text": [
      "time: 1.92 ms\n"
     ]
    }
   ],
   "source": [
    "true_label = np.argmax(y_test, axis=1)\n",
    "pred_label = np.argmax(y_test_hat, axis=1)"
   ]
  },
  {
   "cell_type": "code",
   "execution_count": 62,
   "metadata": {},
   "outputs": [
    {
     "name": "stdout",
     "output_type": "stream",
     "text": [
      "time: 11.6 ms\n"
     ]
    }
   ],
   "source": [
    "from sklearn.metrics import confusion_matrix\n",
    "\n",
    "class MURAMetrics():\n",
    "    \n",
    "    def __init__(self, true_label, pred_label):\n",
    "        assert true_label.shape[0] == pred_label.shape[0], (\n",
    "            'true_label and pred_laben must have the same length!')\n",
    "        self.y = true_label\n",
    "        self.yhat = pred_label\n",
    "        self.N = true_label.shape[0]\n",
    "        self.cm = confusion_matrix(true_label, pred_label)\n",
    "        \n",
    "    def accuracy(self):\n",
    "        return (self.cm[0, 0] + self.cm[1, 1]) / self.N\n",
    "\n",
    "    def kappa(self):\n",
    "        p_observed = self.accuracy()\n",
    "        p_expected = (\n",
    "            self.cm[1, :].sum() * self.cm[:, 1].sum() \n",
    "            + self.cm[0, :].sum() * self.cm[:, 0].sum()) / self.N**2\n",
    "        return (p_observed - p_expected) / (1 - p_expected)\n",
    "    \n",
    "    def precision_and_recall(self):\n",
    "        return {\n",
    "            'precision': self.cm[1, 1] / self.cm[:, 1].sum(),\n",
    "            'recall': self.cm[1, 1] / self.cm[1, :].sum()\n",
    "        }"
   ]
  },
  {
   "cell_type": "code",
   "execution_count": 63,
   "metadata": {},
   "outputs": [
    {
     "name": "stdout",
     "output_type": "stream",
     "text": [
      "time: 7.74 ms\n"
     ]
    }
   ],
   "source": [
    "x = ModelEval(true_label, pred_label)"
   ]
  },
  {
   "cell_type": "code",
   "execution_count": 64,
   "metadata": {},
   "outputs": [
    {
     "data": {
      "text/plain": [
       "0.7269314982796372"
      ]
     },
     "execution_count": 64,
     "metadata": {},
     "output_type": "execute_result"
    },
    {
     "name": "stdout",
     "output_type": "stream",
     "text": [
      "time: 4.12 ms\n"
     ]
    }
   ],
   "source": [
    "x.accuracy()"
   ]
  },
  {
   "cell_type": "code",
   "execution_count": 65,
   "metadata": {},
   "outputs": [
    {
     "data": {
      "text/plain": [
       "0.4419623942875436"
      ]
     },
     "execution_count": 65,
     "metadata": {},
     "output_type": "execute_result"
    },
    {
     "name": "stdout",
     "output_type": "stream",
     "text": [
      "time: 4.18 ms\n"
     ]
    }
   ],
   "source": [
    "x.kappa()"
   ]
  },
  {
   "cell_type": "code",
   "execution_count": 66,
   "metadata": {},
   "outputs": [
    {
     "data": {
      "text/plain": [
       "{'precision': 0.9090909090909091, 'recall': 0.477124183006536}"
      ]
     },
     "execution_count": 66,
     "metadata": {},
     "output_type": "execute_result"
    },
    {
     "name": "stdout",
     "output_type": "stream",
     "text": [
      "time: 4.35 ms\n"
     ]
    }
   ],
   "source": [
    "x.precision_and_recall()"
   ]
  },
  {
   "cell_type": "code",
   "execution_count": null,
   "metadata": {},
   "outputs": [],
   "source": []
  }
 ],
 "metadata": {
  "kernelspec": {
   "display_name": "Python 3",
   "language": "python",
   "name": "python3"
  },
  "language_info": {
   "codemirror_mode": {
    "name": "ipython",
    "version": 3
   },
   "file_extension": ".py",
   "mimetype": "text/x-python",
   "name": "python",
   "nbconvert_exporter": "python",
   "pygments_lexer": "ipython3",
   "version": "3.6.5"
  }
 },
 "nbformat": 4,
 "nbformat_minor": 2
}
