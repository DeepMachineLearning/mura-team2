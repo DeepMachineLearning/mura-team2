{
 "cells": [
  {
   "cell_type": "code",
   "execution_count": 1,
   "metadata": {},
   "outputs": [
    {
     "name": "stderr",
     "output_type": "stream",
     "text": [
      "Using TensorFlow backend.\n"
     ]
    }
   ],
   "source": [
    "%load_ext autotime\n",
    "\n",
    "import numpy as np\n",
    "import pandas as pd\n",
    "from matplotlib import pyplot as plt\n",
    "%matplotlib inline\n",
    "from keras.applications.densenet import DenseNet121\n",
    "from keras.utils import np_utils\n",
    "from keras.utils import to_categorical\n",
    "from keras.models import load_model\n",
    "from keras.preprocessing.image import ImageDataGenerator\n",
    "from keras import layers\n",
    "from keras import optimizers\n",
    "from keras import metrics\n",
    "from keras import models\n",
    "\n",
    "from keras.utils import plot_model, multi_gpu_model\n",
    "from IPython.display import SVG\n",
    "from keras.utils.vis_utils import model_to_dot\n",
    "\n",
    "\n",
    "from pathlib import Path\n",
    "import pickle\n",
    "\n",
    "import warnings\n",
    "warnings.filterwarnings('ignore')\n",
    "\n",
    "import tensorflow as tf\n",
    "from keras import backend as K\n",
    "config = tf.ConfigProto(allow_soft_placement=True)\n",
    "config.gpu_options.allow_growth=True\n",
    "sess = tf.Session(config=config)\n",
    "K.set_session(sess)\n",
    "\n",
    "import utils\n",
    "from sklearn.metrics import confusion_matrix"
   ]
  },
  {
   "cell_type": "code",
   "execution_count": 2,
   "metadata": {},
   "outputs": [
    {
     "name": "stdout",
     "output_type": "stream",
     "text": [
      "time: 947 µs\n"
     ]
    }
   ],
   "source": [
    "classifier = '3_1_body_part_classifier_40'\n",
    "base_model = '2_1_submodel_335'"
   ]
  },
  {
   "cell_type": "code",
   "execution_count": 3,
   "metadata": {},
   "outputs": [
    {
     "name": "stdout",
     "output_type": "stream",
     "text": [
      "time: 5.5 ms\n"
     ]
    }
   ],
   "source": [
    "model_name = '3_2_ensemble'"
   ]
  },
  {
   "cell_type": "markdown",
   "metadata": {},
   "source": [
    "# Initialize model structure"
   ]
  },
  {
   "cell_type": "code",
   "execution_count": 4,
   "metadata": {},
   "outputs": [
    {
     "name": "stdout",
     "output_type": "stream",
     "text": [
      "time: 5min 31s\n"
     ]
    }
   ],
   "source": [
    "with tf.device('/CPU:0'):\n",
    "    classifier = models.load_model(f'trained_models/{classifier}.h5')\n",
    "    classifier = models.Model(input=classifier.layers[-2].inputs[0], output=classifier.layers[-2].outputs[0])\n",
    "    for mid_layer in classifier.layers:\n",
    "        mid_layer.trainable = False\n",
    "\n",
    "    sub_models = []\n",
    "    for _ in range(7):\n",
    "        dn121 = DenseNet121(input_tensor=classifier.input, classes=1, weights=None, include_top=False)\n",
    "        model = models.Model(input=dn121.input, output=layers.Dense(1, activation='sigmoid')(layers.Flatten()(dn121.output)))\n",
    "        model.load_weights(f'trained_models/{base_model}.h5')\n",
    "        sub_models.append(model)\n",
    "        del dn121\n",
    "        del model\n",
    "        \n",
    "    i = 1\n",
    "    for model in sub_models:\n",
    "        for mid_layer in model.layers:\n",
    "            mid_layer.name = str(i) + '_' + mid_layer.name\n",
    "        i += 1\n",
    "    for mid_layer in classifier.layers:\n",
    "        mid_layer.name = 'c_' + mid_layer.name\n",
    "        \n",
    "    concat = layers.Concatenate(1)([model.output for model in sub_models])\n",
    "    dot = layers.Dot(axes=1)([concat, classifier.output])\n",
    "    \n",
    "    ensemble = models.Model(input=classifier.input, output=dot)"
   ]
  },
  {
   "cell_type": "markdown",
   "metadata": {},
   "source": [
    "## lock base layers"
   ]
  },
  {
   "cell_type": "code",
   "execution_count": 5,
   "metadata": {},
   "outputs": [
    {
     "name": "stdout",
     "output_type": "stream",
     "text": [
      "time: 3.77 ms\n"
     ]
    }
   ],
   "source": [
    "for model in sub_models:\n",
    "    for mid_layer in model.layers:\n",
    "        mid_layer.trainable = False\n",
    "        if 'pool4_relu' in mid_layer.name:\n",
    "            break"
   ]
  },
  {
   "cell_type": "code",
   "execution_count": 6,
   "metadata": {},
   "outputs": [
    {
     "name": "stdout",
     "output_type": "stream",
     "text": [
      "time: 9.99 s\n"
     ]
    }
   ],
   "source": [
    "plot_model(ensemble, to_file='ensemble.png')"
   ]
  },
  {
   "cell_type": "code",
   "execution_count": 7,
   "metadata": {},
   "outputs": [
    {
     "name": "stdout",
     "output_type": "stream",
     "text": [
      "time: 10min 17s\n"
     ]
    }
   ],
   "source": [
    "model = multi_gpu_model(ensemble, gpus=2)"
   ]
  },
  {
   "cell_type": "markdown",
   "metadata": {},
   "source": [
    "# Prep Data"
   ]
  },
  {
   "cell_type": "code",
   "execution_count": 8,
   "metadata": {},
   "outputs": [
    {
     "name": "stderr",
     "output_type": "stream",
     "text": [
      "INFO:utils.utils:loading data/MURA-v1.1/x_train.pkl\n",
      "INFO:utils.utils:loading data/MURA-v1.1/y_train.pkl\n",
      "INFO:utils.utils:loading data/MURA-v1.1/x_valid.pkl\n",
      "INFO:utils.utils:loading data/MURA-v1.1/y_valid.pkl\n"
     ]
    },
    {
     "name": "stdout",
     "output_type": "stream",
     "text": [
      "time: 1.95 s\n"
     ]
    }
   ],
   "source": [
    "x_train, y_train, x_test, y_test = utils.read_mura_pickle()"
   ]
  },
  {
   "cell_type": "code",
   "execution_count": 9,
   "metadata": {},
   "outputs": [
    {
     "name": "stdout",
     "output_type": "stream",
     "text": [
      "time: 509 µs\n"
     ]
    }
   ],
   "source": [
    "size = x_train.shape[1]"
   ]
  },
  {
   "cell_type": "code",
   "execution_count": 10,
   "metadata": {},
   "outputs": [
    {
     "name": "stdout",
     "output_type": "stream",
     "text": [
      "time: 4.02 s\n"
     ]
    }
   ],
   "source": [
    "x_train = utils.normalize_pixels(x_train)\n",
    "x_test = utils.normalize_pixels(x_test)\n",
    "x_train = x_train.reshape(x_train.shape[0], size, size, 1)\n",
    "x_test = x_test.reshape(x_test.shape[0], size, size, 1)"
   ]
  },
  {
   "cell_type": "code",
   "execution_count": 11,
   "metadata": {},
   "outputs": [
    {
     "data": {
      "text/plain": [
       "(36808, 256, 256, 1)"
      ]
     },
     "execution_count": 11,
     "metadata": {},
     "output_type": "execute_result"
    },
    {
     "name": "stdout",
     "output_type": "stream",
     "text": [
      "time: 6.74 ms\n"
     ]
    }
   ],
   "source": [
    "x_train.shape"
   ]
  },
  {
   "cell_type": "code",
   "execution_count": 12,
   "metadata": {},
   "outputs": [
    {
     "name": "stdout",
     "output_type": "stream",
     "text": [
      "time: 4.39 ms\n"
     ]
    }
   ],
   "source": [
    "datagen = ImageDataGenerator(\n",
    "    rotation_range=360,\n",
    "    width_shift_range=0.2,\n",
    "    height_shift_range=0.2,\n",
    "    shear_range=0.2,\n",
    "    zoom_range=[1, 1.2],\n",
    "    fill_mode = 'constant',\n",
    "    cval=0,\n",
    "    horizontal_flip=True,\n",
    "    vertical_flip=True)"
   ]
  },
  {
   "cell_type": "code",
   "execution_count": 13,
   "metadata": {},
   "outputs": [
    {
     "name": "stdout",
     "output_type": "stream",
     "text": [
      "time: 3.96 s\n"
     ]
    }
   ],
   "source": [
    "datagen.fit(x_train)"
   ]
  },
  {
   "cell_type": "markdown",
   "metadata": {},
   "source": [
    "# Training"
   ]
  },
  {
   "cell_type": "code",
   "execution_count": 17,
   "metadata": {},
   "outputs": [
    {
     "name": "stdout",
     "output_type": "stream",
     "text": [
      "time: 3.55 ms\n"
     ]
    }
   ],
   "source": [
    "starting_epoch = 0\n",
    "train_round = 0\n",
    "batch_size = 32\n",
    "epochs_per_eval = 10\n",
    "epochs_per_save = 30\n",
    "total_epochs = 210\n",
    "train_history = {'loss': [], 'binary_accuracy': []}\n",
    "val_per_image_history = {'accuracy': [], 'kappa': [], 'precision': [], 'recall': []}\n",
    "val_per_study_history = {'accuracy': [], 'kappa': [], 'precision': [], 'recall': []}"
   ]
  },
  {
   "cell_type": "code",
   "execution_count": 18,
   "metadata": {},
   "outputs": [
    {
     "name": "stdout",
     "output_type": "stream",
     "text": [
      "__________________________________________________________________________________________________\n",
      "Layer (type)                    Output Shape         Param #     Connected to                     \n",
      "==================================================================================================\n",
      "c_7_6_5_4_3_2_1_input_1 (InputL (None, 256, 256, 1)  0                                            \n",
      "__________________________________________________________________________________________________\n",
      "lambda_1 (Lambda)               (None, 256, 256, 1)  0           c_7_6_5_4_3_2_1_input_1[0][0]    \n",
      "__________________________________________________________________________________________________\n",
      "lambda_2 (Lambda)               (None, 256, 256, 1)  0           c_7_6_5_4_3_2_1_input_1[0][0]    \n",
      "__________________________________________________________________________________________________\n",
      "model_9 (Model)                 (None, 1)            56715790    lambda_1[0][0]                   \n",
      "                                                                 lambda_2[0][0]                   \n",
      "__________________________________________________________________________________________________\n",
      "dot_1 (Concatenate)             (None, 1)            0           model_9[1][0]                    \n",
      "                                                                 model_9[2][0]                    \n",
      "==================================================================================================\n",
      "Total params: 56,715,790\n",
      "Trainable params: 19,249,671\n",
      "Non-trainable params: 37,466,119\n",
      "__________________________________________________________________________________________________\n",
      "time: 158 ms\n"
     ]
    }
   ],
   "source": [
    "model.summary()"
   ]
  },
  {
   "cell_type": "code",
   "execution_count": 19,
   "metadata": {},
   "outputs": [
    {
     "name": "stdout",
     "output_type": "stream",
     "text": [
      "time: 861 µs\n"
     ]
    }
   ],
   "source": [
    "# with tf.device('/CPU:0'):\n",
    "#     ensemble = models.load_model(f'./trained_models/{model_name}_235.h5')\n",
    "#     model = multi_gpu_model(ensemble, gpus=2)"
   ]
  },
  {
   "cell_type": "code",
   "execution_count": 20,
   "metadata": {},
   "outputs": [
    {
     "name": "stdout",
     "output_type": "stream",
     "text": [
      "time: 1.62 ms\n"
     ]
    }
   ],
   "source": [
    "# with open(f'./trained_models/{model_name}_train_history.pkl', 'rb') as pkl_file:\n",
    "#     train_history = pickle.load(pkl_file)\n",
    "# with open(f'./trained_models/{model_name}_val_per_image_history.pkl', 'rb') as pkl_file:\n",
    "#     val_per_image_history = pickle.load(pkl_file)\n",
    "# with open(f'./trained_models/{model_name}_val_per_study_history.pkl', 'rb') as pkl_file:\n",
    "#     val_per_study_history = pickle.load(pkl_file)"
   ]
  },
  {
   "cell_type": "code",
   "execution_count": 35,
   "metadata": {},
   "outputs": [
    {
     "name": "stdout",
     "output_type": "stream",
     "text": [
      "executing epochs 31-40\n",
      "Epoch 1/10\n",
      " - 1254s - loss: 0.3939 - binary_accuracy: 0.8283\n",
      "Epoch 2/10\n",
      " - 1061s - loss: 0.3962 - binary_accuracy: 0.8287\n",
      "Epoch 3/10\n",
      " - 1064s - loss: 0.3954 - binary_accuracy: 0.8283\n",
      "Epoch 4/10\n",
      " - 1060s - loss: 0.3947 - binary_accuracy: 0.8287\n",
      "Epoch 5/10\n",
      " - 1054s - loss: 0.3930 - binary_accuracy: 0.8300\n",
      "Epoch 6/10\n",
      " - 1062s - loss: 0.3930 - binary_accuracy: 0.8283\n",
      "Epoch 7/10\n",
      " - 1058s - loss: 0.3949 - binary_accuracy: 0.8289\n",
      "Epoch 8/10\n",
      " - 1066s - loss: 0.3951 - binary_accuracy: 0.8278\n",
      "Epoch 9/10\n",
      " - 1068s - loss: 0.3921 - binary_accuracy: 0.8284\n",
      "Epoch 10/10\n",
      " - 1065s - loss: 0.3931 - binary_accuracy: 0.8287\n"
     ]
    },
    {
     "name": "stderr",
     "output_type": "stream",
     "text": [
      "INFO:utils.mura_metrics:Accuracy: 0.7857366280888333\n",
      "INFO:utils.mura_metrics:Kappa: 0.5669514773752171\n",
      "INFO:utils.mura_metrics:Precision: 0.8494623655913979\n",
      "INFO:utils.mura_metrics:Recall: 0.6712418300653594\n"
     ]
    },
    {
     "data": {
      "image/png": "[encoded data removed]",
      "text/plain": [
       "<Figure size 432x288 with 2 Axes>"
      ]
     },
     "metadata": {},
     "output_type": "display_data"
    },
    {
     "name": "stderr",
     "output_type": "stream",
     "text": [
      "INFO:utils.mura_metrics:Accuracy: 0.7956630525437864\n",
      "INFO:utils.mura_metrics:Kappa: 0.5756034274767361\n",
      "INFO:utils.mura_metrics:Precision: 0.8825065274151436\n",
      "INFO:utils.mura_metrics:Recall: 0.6282527881040892\n"
     ]
    },
    {
     "name": "stdout",
     "output_type": "stream",
     "text": [
      "Valid per image accuracy: 0.7857366280888333\n",
      "Valid per image kappa: 0.5669514773752171\n",
      "Valid per image precision: 0.8494623655913979\n",
      "Valid per image recall: 0.6712418300653594\n"
     ]
    },
    {
     "data": {
      "image/png": "[encoded data removed]",
      "text/plain": [
       "<Figure size 432x288 with 2 Axes>"
      ]
     },
     "metadata": {},
     "output_type": "display_data"
    },
    {
     "name": "stdout",
     "output_type": "stream",
     "text": [
      "Valid per study accuracy: 0.7956630525437864\n",
      "Valid per study kappa: 0.5756034274767361\n",
      "Valid per study precision: 0.8825065274151436\n",
      "Valid per study recall: 0.6282527881040892\n",
      "Saving evaluation metrics history...\n",
      "executing epochs 41-50\n",
      "Epoch 1/10\n",
      " - 1279s - loss: 0.3945 - binary_accuracy: 0.8277\n",
      "Epoch 2/10\n",
      " - 1063s - loss: 0.3925 - binary_accuracy: 0.8299\n",
      "Epoch 3/10\n",
      " - 1065s - loss: 0.3934 - binary_accuracy: 0.8290\n",
      "Epoch 4/10\n",
      " - 1068s - loss: 0.3931 - binary_accuracy: 0.8277\n",
      "Epoch 5/10\n",
      " - 1066s - loss: 0.3930 - binary_accuracy: 0.8288\n",
      "Epoch 6/10\n",
      " - 1059s - loss: 0.3905 - binary_accuracy: 0.8318\n",
      "Epoch 7/10\n",
      " - 1060s - loss: 0.3917 - binary_accuracy: 0.8287\n",
      "Epoch 8/10\n",
      " - 1060s - loss: 0.3907 - binary_accuracy: 0.8281\n",
      "Epoch 9/10\n",
      " - 1065s - loss: 0.3917 - binary_accuracy: 0.8292\n",
      "Epoch 10/10\n",
      " - 1064s - loss: 0.3908 - binary_accuracy: 0.8292\n"
     ]
    },
    {
     "name": "stderr",
     "output_type": "stream",
     "text": [
      "INFO:utils.mura_metrics:Accuracy: 0.7854238348451673\n",
      "INFO:utils.mura_metrics:Kappa: 0.5663545333284296\n",
      "INFO:utils.mura_metrics:Precision: 0.8481848184818482\n",
      "INFO:utils.mura_metrics:Recall: 0.6718954248366014\n"
     ]
    },
    {
     "data": {
      "image/png": "[encoded data removed]",
      "text/plain": [
       "<Figure size 432x288 with 2 Axes>"
      ]
     },
     "metadata": {},
     "output_type": "display_data"
    },
    {
     "name": "stderr",
     "output_type": "stream",
     "text": [
      "INFO:utils.mura_metrics:Accuracy: 0.7956630525437864\n",
      "INFO:utils.mura_metrics:Kappa: 0.5757542059192654\n",
      "INFO:utils.mura_metrics:Precision: 0.8805194805194805\n",
      "INFO:utils.mura_metrics:Recall: 0.6301115241635687\n"
     ]
    },
    {
     "name": "stdout",
     "output_type": "stream",
     "text": [
      "Valid per image accuracy: 0.7854238348451673\n",
      "Valid per image kappa: 0.5663545333284296\n",
      "Valid per image precision: 0.8481848184818482\n",
      "Valid per image recall: 0.6718954248366014\n"
     ]
    },
    {
     "data": {
      "image/png": "[encoded data removed]",
      "text/plain": [
       "<Figure size 432x288 with 2 Axes>"
      ]
     },
     "metadata": {},
     "output_type": "display_data"
    },
    {
     "name": "stdout",
     "output_type": "stream",
     "text": [
      "Valid per study accuracy: 0.7956630525437864\n",
      "Valid per study kappa: 0.5757542059192654\n",
      "Valid per study precision: 0.8805194805194805\n",
      "Valid per study recall: 0.6301115241635687\n",
      "Saving evaluation metrics history...\n",
      "executing epochs 51-60\n",
      "Epoch 1/10\n",
      " - 1282s - loss: 0.3912 - binary_accuracy: 0.8303\n",
      "Epoch 2/10\n",
      " - 1065s - loss: 0.3890 - binary_accuracy: 0.8302\n",
      "Epoch 3/10\n",
      " - 1060s - loss: 0.3920 - binary_accuracy: 0.8293\n",
      "Epoch 4/10\n",
      " - 1060s - loss: 0.3910 - binary_accuracy: 0.8298\n",
      "Epoch 5/10\n",
      " - 1071s - loss: 0.3896 - binary_accuracy: 0.8301\n",
      "Epoch 6/10\n",
      " - 1060s - loss: 0.3908 - binary_accuracy: 0.8295\n",
      "Epoch 7/10\n",
      " - 1062s - loss: 0.3913 - binary_accuracy: 0.8292\n",
      "Epoch 8/10\n",
      " - 1063s - loss: 0.3909 - binary_accuracy: 0.8297\n",
      "Epoch 9/10\n",
      " - 1065s - loss: 0.3914 - binary_accuracy: 0.8287\n",
      "Epoch 10/10\n",
      " - 1065s - loss: 0.3892 - binary_accuracy: 0.8305\n"
     ]
    },
    {
     "name": "stderr",
     "output_type": "stream",
     "text": [
      "INFO:utils.mura_metrics:Accuracy: 0.7838598686268377\n",
      "INFO:utils.mura_metrics:Kappa: 0.5631820192406368\n",
      "INFO:utils.mura_metrics:Precision: 0.8464079273327828\n",
      "INFO:utils.mura_metrics:Recall: 0.6699346405228758\n"
     ]
    },
    {
     "data": {
      "image/png": "[encoded data removed]",
      "text/plain": [
       "<Figure size 432x288 with 2 Axes>"
      ]
     },
     "metadata": {},
     "output_type": "display_data"
    },
    {
     "name": "stderr",
     "output_type": "stream",
     "text": [
      "INFO:utils.mura_metrics:Accuracy: 0.7939949958298582\n",
      "INFO:utils.mura_metrics:Kappa: 0.5722909749471778\n",
      "INFO:utils.mura_metrics:Precision: 0.8779220779220779\n",
      "INFO:utils.mura_metrics:Recall: 0.6282527881040892\n"
     ]
    },
    {
     "name": "stdout",
     "output_type": "stream",
     "text": [
      "Valid per image accuracy: 0.7838598686268377\n",
      "Valid per image kappa: 0.5631820192406368\n",
      "Valid per image precision: 0.8464079273327828\n",
      "Valid per image recall: 0.6699346405228758\n"
     ]
    },
    {
     "data": {
      "image/png": "[encoded data removed]",
      "text/plain": [
       "<Figure size 432x288 with 2 Axes>"
      ]
     },
     "metadata": {},
     "output_type": "display_data"
    },
    {
     "name": "stdout",
     "output_type": "stream",
     "text": [
      "Valid per study accuracy: 0.7939949958298582\n",
      "Valid per study kappa: 0.5722909749471778\n",
      "Valid per study precision: 0.8779220779220779\n",
      "Valid per study recall: 0.6282527881040892\n",
      "Saving Model to trained_models/3_2_ensemble_60_weights.pkl...\n",
      "Saving evaluation metrics history...\n",
      "executing epochs 61-70\n",
      "Epoch 1/10\n"
     ]
    },
    {
     "ename": "KeyboardInterrupt",
     "evalue": "",
     "output_type": "error",
     "traceback": [
      "\u001b[0;31m---------------------------------------------------------------------------\u001b[0m",
      "\u001b[0;31mKeyboardInterrupt\u001b[0m                         Traceback (most recent call last)",
      "\u001b[0;32m<ipython-input-35-aab91847aaf6>\u001b[0m in \u001b[0;36m<module>\u001b[0;34m()\u001b[0m\n\u001b[1;32m     14\u001b[0m \u001b[0;34m\u001b[0m\u001b[0m\n\u001b[1;32m     15\u001b[0m     model.fit_generator(datagen.flow(x_train, y_train, batch_size=batch_size),\n\u001b[0;32m---> 16\u001b[0;31m                            steps_per_epoch = len(x_train) / batch_size, epochs=epochs_per_eval, verbose=2)\n\u001b[0m\u001b[1;32m     17\u001b[0m \u001b[0;34m\u001b[0m\u001b[0m\n\u001b[1;32m     18\u001b[0m     \u001b[0mtrain_history\u001b[0m\u001b[0;34m[\u001b[0m\u001b[0;34m'loss'\u001b[0m\u001b[0;34m]\u001b[0m\u001b[0;34m.\u001b[0m\u001b[0mextend\u001b[0m\u001b[0;34m(\u001b[0m\u001b[0mmodel\u001b[0m\u001b[0;34m.\u001b[0m\u001b[0mhistory\u001b[0m\u001b[0;34m.\u001b[0m\u001b[0mhistory\u001b[0m\u001b[0;34m[\u001b[0m\u001b[0;34m'loss'\u001b[0m\u001b[0;34m]\u001b[0m\u001b[0;34m)\u001b[0m\u001b[0;34m\u001b[0m\u001b[0m\n",
      "\u001b[0;32m~/anaconda3/envs/mura/lib/python3.6/site-packages/keras/legacy/interfaces.py\u001b[0m in \u001b[0;36mwrapper\u001b[0;34m(*args, **kwargs)\u001b[0m\n\u001b[1;32m     89\u001b[0m                 warnings.warn('Update your `' + object_name +\n\u001b[1;32m     90\u001b[0m                               '` call to the Keras 2 API: ' + signature, stacklevel=2)\n\u001b[0;32m---> 91\u001b[0;31m             \u001b[0;32mreturn\u001b[0m \u001b[0mfunc\u001b[0m\u001b[0;34m(\u001b[0m\u001b[0;34m*\u001b[0m\u001b[0margs\u001b[0m\u001b[0;34m,\u001b[0m \u001b[0;34m**\u001b[0m\u001b[0mkwargs\u001b[0m\u001b[0;34m)\u001b[0m\u001b[0;34m\u001b[0m\u001b[0m\n\u001b[0m\u001b[1;32m     92\u001b[0m         \u001b[0mwrapper\u001b[0m\u001b[0;34m.\u001b[0m\u001b[0m_original_function\u001b[0m \u001b[0;34m=\u001b[0m \u001b[0mfunc\u001b[0m\u001b[0;34m\u001b[0m\u001b[0m\n\u001b[1;32m     93\u001b[0m         \u001b[0;32mreturn\u001b[0m \u001b[0mwrapper\u001b[0m\u001b[0;34m\u001b[0m\u001b[0m\n",
      "\u001b[0;32m~/anaconda3/envs/mura/lib/python3.6/site-packages/keras/engine/training.py\u001b[0m in \u001b[0;36mfit_generator\u001b[0;34m(self, generator, steps_per_epoch, epochs, verbose, callbacks, validation_data, validation_steps, class_weight, max_queue_size, workers, use_multiprocessing, shuffle, initial_epoch)\u001b[0m\n\u001b[1;32m   1424\u001b[0m             \u001b[0muse_multiprocessing\u001b[0m\u001b[0;34m=\u001b[0m\u001b[0muse_multiprocessing\u001b[0m\u001b[0;34m,\u001b[0m\u001b[0;34m\u001b[0m\u001b[0m\n\u001b[1;32m   1425\u001b[0m             \u001b[0mshuffle\u001b[0m\u001b[0;34m=\u001b[0m\u001b[0mshuffle\u001b[0m\u001b[0;34m,\u001b[0m\u001b[0;34m\u001b[0m\u001b[0m\n\u001b[0;32m-> 1426\u001b[0;31m             initial_epoch=initial_epoch)\n\u001b[0m\u001b[1;32m   1427\u001b[0m \u001b[0;34m\u001b[0m\u001b[0m\n\u001b[1;32m   1428\u001b[0m     \u001b[0;34m@\u001b[0m\u001b[0minterfaces\u001b[0m\u001b[0;34m.\u001b[0m\u001b[0mlegacy_generator_methods_support\u001b[0m\u001b[0;34m\u001b[0m\u001b[0m\n",
      "\u001b[0;32m~/anaconda3/envs/mura/lib/python3.6/site-packages/keras/engine/training_generator.py\u001b[0m in \u001b[0;36mfit_generator\u001b[0;34m(model, generator, steps_per_epoch, epochs, verbose, callbacks, validation_data, validation_steps, class_weight, max_queue_size, workers, use_multiprocessing, shuffle, initial_epoch)\u001b[0m\n\u001b[1;32m    189\u001b[0m                 outs = model.train_on_batch(x, y,\n\u001b[1;32m    190\u001b[0m                                             \u001b[0msample_weight\u001b[0m\u001b[0;34m=\u001b[0m\u001b[0msample_weight\u001b[0m\u001b[0;34m,\u001b[0m\u001b[0;34m\u001b[0m\u001b[0m\n\u001b[0;32m--> 191\u001b[0;31m                                             class_weight=class_weight)\n\u001b[0m\u001b[1;32m    192\u001b[0m \u001b[0;34m\u001b[0m\u001b[0m\n\u001b[1;32m    193\u001b[0m                 \u001b[0;32mif\u001b[0m \u001b[0;32mnot\u001b[0m \u001b[0misinstance\u001b[0m\u001b[0;34m(\u001b[0m\u001b[0mouts\u001b[0m\u001b[0;34m,\u001b[0m \u001b[0mlist\u001b[0m\u001b[0;34m)\u001b[0m\u001b[0;34m:\u001b[0m\u001b[0;34m\u001b[0m\u001b[0m\n",
      "\u001b[0;32m~/anaconda3/envs/mura/lib/python3.6/site-packages/keras/engine/training.py\u001b[0m in \u001b[0;36mtrain_on_batch\u001b[0;34m(self, x, y, sample_weight, class_weight)\u001b[0m\n\u001b[1;32m   1218\u001b[0m             \u001b[0mins\u001b[0m \u001b[0;34m=\u001b[0m \u001b[0mx\u001b[0m \u001b[0;34m+\u001b[0m \u001b[0my\u001b[0m \u001b[0;34m+\u001b[0m \u001b[0msample_weights\u001b[0m\u001b[0;34m\u001b[0m\u001b[0m\n\u001b[1;32m   1219\u001b[0m         \u001b[0mself\u001b[0m\u001b[0;34m.\u001b[0m\u001b[0m_make_train_function\u001b[0m\u001b[0;34m(\u001b[0m\u001b[0;34m)\u001b[0m\u001b[0;34m\u001b[0m\u001b[0m\n\u001b[0;32m-> 1220\u001b[0;31m         \u001b[0moutputs\u001b[0m \u001b[0;34m=\u001b[0m \u001b[0mself\u001b[0m\u001b[0;34m.\u001b[0m\u001b[0mtrain_function\u001b[0m\u001b[0;34m(\u001b[0m\u001b[0mins\u001b[0m\u001b[0;34m)\u001b[0m\u001b[0;34m\u001b[0m\u001b[0m\n\u001b[0m\u001b[1;32m   1221\u001b[0m         \u001b[0;32mif\u001b[0m \u001b[0mlen\u001b[0m\u001b[0;34m(\u001b[0m\u001b[0moutputs\u001b[0m\u001b[0;34m)\u001b[0m \u001b[0;34m==\u001b[0m \u001b[0;36m1\u001b[0m\u001b[0;34m:\u001b[0m\u001b[0;34m\u001b[0m\u001b[0m\n\u001b[1;32m   1222\u001b[0m             \u001b[0;32mreturn\u001b[0m \u001b[0moutputs\u001b[0m\u001b[0;34m[\u001b[0m\u001b[0;36m0\u001b[0m\u001b[0;34m]\u001b[0m\u001b[0;34m\u001b[0m\u001b[0m\n",
      "\u001b[0;32m~/anaconda3/envs/mura/lib/python3.6/site-packages/keras/backend/tensorflow_backend.py\u001b[0m in \u001b[0;36m__call__\u001b[0;34m(self, inputs)\u001b[0m\n\u001b[1;32m   2659\u001b[0m                 \u001b[0;32mreturn\u001b[0m \u001b[0mself\u001b[0m\u001b[0;34m.\u001b[0m\u001b[0m_legacy_call\u001b[0m\u001b[0;34m(\u001b[0m\u001b[0minputs\u001b[0m\u001b[0;34m)\u001b[0m\u001b[0;34m\u001b[0m\u001b[0m\n\u001b[1;32m   2660\u001b[0m \u001b[0;34m\u001b[0m\u001b[0m\n\u001b[0;32m-> 2661\u001b[0;31m             \u001b[0;32mreturn\u001b[0m \u001b[0mself\u001b[0m\u001b[0;34m.\u001b[0m\u001b[0m_call\u001b[0m\u001b[0;34m(\u001b[0m\u001b[0minputs\u001b[0m\u001b[0;34m)\u001b[0m\u001b[0;34m\u001b[0m\u001b[0m\n\u001b[0m\u001b[1;32m   2662\u001b[0m         \u001b[0;32melse\u001b[0m\u001b[0;34m:\u001b[0m\u001b[0;34m\u001b[0m\u001b[0m\n\u001b[1;32m   2663\u001b[0m             \u001b[0;32mif\u001b[0m \u001b[0mpy_any\u001b[0m\u001b[0;34m(\u001b[0m\u001b[0mis_tensor\u001b[0m\u001b[0;34m(\u001b[0m\u001b[0mx\u001b[0m\u001b[0;34m)\u001b[0m \u001b[0;32mfor\u001b[0m \u001b[0mx\u001b[0m \u001b[0;32min\u001b[0m \u001b[0minputs\u001b[0m\u001b[0;34m)\u001b[0m\u001b[0;34m:\u001b[0m\u001b[0;34m\u001b[0m\u001b[0m\n",
      "\u001b[0;32m~/anaconda3/envs/mura/lib/python3.6/site-packages/keras/backend/tensorflow_backend.py\u001b[0m in \u001b[0;36m_call\u001b[0;34m(self, inputs)\u001b[0m\n\u001b[1;32m   2629\u001b[0m                                 \u001b[0msymbol_vals\u001b[0m\u001b[0;34m,\u001b[0m\u001b[0;34m\u001b[0m\u001b[0m\n\u001b[1;32m   2630\u001b[0m                                 session)\n\u001b[0;32m-> 2631\u001b[0;31m         \u001b[0mfetched\u001b[0m \u001b[0;34m=\u001b[0m \u001b[0mself\u001b[0m\u001b[0;34m.\u001b[0m\u001b[0m_callable_fn\u001b[0m\u001b[0;34m(\u001b[0m\u001b[0;34m*\u001b[0m\u001b[0marray_vals\u001b[0m\u001b[0;34m)\u001b[0m\u001b[0;34m\u001b[0m\u001b[0m\n\u001b[0m\u001b[1;32m   2632\u001b[0m         \u001b[0;32mreturn\u001b[0m \u001b[0mfetched\u001b[0m\u001b[0;34m[\u001b[0m\u001b[0;34m:\u001b[0m\u001b[0mlen\u001b[0m\u001b[0;34m(\u001b[0m\u001b[0mself\u001b[0m\u001b[0;34m.\u001b[0m\u001b[0moutputs\u001b[0m\u001b[0;34m)\u001b[0m\u001b[0;34m]\u001b[0m\u001b[0;34m\u001b[0m\u001b[0m\n\u001b[1;32m   2633\u001b[0m \u001b[0;34m\u001b[0m\u001b[0m\n",
      "\u001b[0;32m~/anaconda3/envs/mura/lib/python3.6/site-packages/tensorflow/python/client/session.py\u001b[0m in \u001b[0;36m__call__\u001b[0;34m(self, *args)\u001b[0m\n\u001b[1;32m   1449\u001b[0m         \u001b[0;32mif\u001b[0m \u001b[0mself\u001b[0m\u001b[0;34m.\u001b[0m\u001b[0m_session\u001b[0m\u001b[0;34m.\u001b[0m\u001b[0m_created_with_new_api\u001b[0m\u001b[0;34m:\u001b[0m\u001b[0;34m\u001b[0m\u001b[0m\n\u001b[1;32m   1450\u001b[0m           return tf_session.TF_SessionRunCallable(\n\u001b[0;32m-> 1451\u001b[0;31m               self._session._session, self._handle, args, status, None)\n\u001b[0m\u001b[1;32m   1452\u001b[0m         \u001b[0;32melse\u001b[0m\u001b[0;34m:\u001b[0m\u001b[0;34m\u001b[0m\u001b[0m\n\u001b[1;32m   1453\u001b[0m           return tf_session.TF_DeprecatedSessionRunCallable(\n",
      "\u001b[0;31mKeyboardInterrupt\u001b[0m: "
     ]
    },
    {
     "name": "stdout",
     "output_type": "stream",
     "text": [
      "time: 9h 32min 31s\n"
     ]
    }
   ],
   "source": [
    "while (train_round+1) * epochs_per_eval + starting_epoch <= total_epochs:\n",
    "    print(f'executing epochs {train_round * epochs_per_eval + 1 + starting_epoch}-{(train_round+1) * epochs_per_eval + starting_epoch}')\n",
    "    \n",
    "    if train_round * epochs_per_eval + 1 + starting_epoch <= 30:\n",
    "        opt = optimizers.Adam()\n",
    "    else:\n",
    "        lr = 0.0001 * (0.9 ** train_round)\n",
    "        opt = optimizers.sgd(lr=lr, momentum=0.9, nesterov=True)\n",
    "        \n",
    "    model.compile(\n",
    "        loss='binary_crossentropy',\n",
    "        optimizer=opt,\n",
    "        metrics=[metrics.binary_accuracy])\n",
    "    \n",
    "    model.fit_generator(datagen.flow(x_train, y_train, batch_size=batch_size),\n",
    "                           steps_per_epoch = len(x_train) / batch_size, epochs=epochs_per_eval, verbose=2)\n",
    "    \n",
    "    train_history['loss'].extend(model.history.history['loss'])\n",
    "    train_history['binary_accuracy'].extend(model.history.history['binary_accuracy'])\n",
    "    \n",
    "    y_valid_hat = model.predict(x_test)\n",
    "    true_label = np.round(y_test)\n",
    "    pred_label = np.round(y_valid_hat)\n",
    "    evaluate = utils.MURAMetrics(true_label, pred_label)\n",
    "    \n",
    "    per_image_metrics = evaluate.report_by_image()\n",
    "    for key in per_image_metrics:\n",
    "        val_per_image_history[key].append(per_image_metrics[key])\n",
    "        print(f'Valid per image {key}: {per_image_metrics[key]}')\n",
    "    \n",
    "    per_study_metrics = evaluate.report_by_study()\n",
    "    for key in per_image_metrics:\n",
    "        val_per_study_history[key].append(per_study_metrics[key])\n",
    "        print(f'Valid per study {key}: {per_study_metrics[key]}')\n",
    "    \n",
    "    cur_epoch = (train_round+1) * epochs_per_eval\n",
    "    if cur_epoch % epochs_per_save == 0:\n",
    "        print(f'Saving Model to trained_models/{model_name}_{cur_epoch + starting_epoch}_weights.pkl...')\n",
    "        weight = model.get_weights() \n",
    "        with open(f'./trained_models/{model_name}_{cur_epoch + starting_epoch}_weights.pkl', 'wb') as pkl_file:\n",
    "            pickle.dump(weight, pkl_file)\n",
    "#         model.save(f'./trained_models/{model_name}_{cur_epoch + starting_epoch}.h5')\n",
    "    \n",
    "    print('Saving evaluation metrics history...')\n",
    "    with open(f'./trained_models/{model_name}_train_history.pkl', 'wb') as pkl_file:\n",
    "        pickle.dump(train_history, pkl_file)\n",
    "    with open(f'./trained_models/{model_name}_val_per_image_history.pkl', 'wb') as pkl_file:\n",
    "        pickle.dump(val_per_image_history, pkl_file)\n",
    "    with open(f'./trained_models/{model_name}_val_per_study_history.pkl', 'wb') as pkl_file:\n",
    "        pickle.dump(val_per_study_history, pkl_file)\n",
    "    \n",
    "    train_round += 1"
   ]
  },
  {
   "cell_type": "code",
   "execution_count": null,
   "metadata": {},
   "outputs": [],
   "source": [
    "# Plots for epochs 1-30\n",
    "# 1-30 used adam with default parameters\n",
    "# 236-345 used lr = 0.001 * (0.9 ** train_round)\n",
    "# 346-365 used lr = 0.0001 * (0.9 ** train_round) (pretty much levelled off, use 335 as result should be good enough)\n",
    "train_metrics = ['loss', 'binary_accuracy']\n",
    "validation_metrics = ['accuracy', 'kappa', 'precision', 'recall']\n",
    "\n",
    "for metric in train_metrics:\n",
    "    plt.plot(train_history[metric])\n",
    "plt.title('Training set metrics per epoch')\n",
    "plt.legend(train_metrics)\n",
    "plt.show() \n",
    "\n",
    "for metric in validation_metrics:\n",
    "    plt.plot(val_per_image_history[metric])\n",
    "plt.title(f'Validation set metrics by image per {epochs_per_eval}')\n",
    "plt.legend(validation_metrics)\n",
    "plt.show() \n",
    "\n",
    "for metric in validation_metrics:\n",
    "    plt.plot(val_per_study_history[metric])\n",
    "plt.title(f'Validation set metrics by study per {epochs_per_eval}')\n",
    "plt.legend(validation_metrics)\n",
    "plt.show() "
   ]
  },
  {
   "cell_type": "code",
   "execution_count": null,
   "metadata": {},
   "outputs": [],
   "source": []
  }
 ],
 "metadata": {
  "kernelspec": {
   "display_name": "Python 3",
   "language": "python",
   "name": "python3"
  },
  "language_info": {
   "codemirror_mode": {
    "name": "ipython",
    "version": 3
   },
   "file_extension": ".py",
   "mimetype": "text/x-python",
   "name": "python",
   "nbconvert_exporter": "python",
   "pygments_lexer": "ipython3",
   "version": "3.6.5"
  }
 },
 "nbformat": 4,
 "nbformat_minor": 2
}
