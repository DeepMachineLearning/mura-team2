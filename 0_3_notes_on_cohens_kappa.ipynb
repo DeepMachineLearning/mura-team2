{
 "cells": [
  {
   "cell_type": "markdown",
   "metadata": {},
   "source": [
    "# Notes on Cohen's Kappa"
   ]
  },
  {
   "cell_type": "markdown",
   "metadata": {},
   "source": [
    "On a 2-class classification task with:\n",
    "- $N$ input data\n",
    "- two raters $R_1$, $R_2$\n",
    "- two classes 1, 2\n",
    "- each rater clasifies each input data as one of the classes\n",
    "\n",
    "We can aggregate the rating results into a confusion matrix, where each row represents the number of cases rater $R_1$ assigns to each class and each column represents the number of cases rater $R_2$ assigns to each class:\n",
    "\n",
    " |1|2\n",
    "---|---|---\n",
    "1|$a_{11}$|$a_{12}$\n",
    "2|$a_{21}$|$a_{22}$\n",
    "\n",
    "where $ N=\\sum_{i=1}^2\\sum_{j=1}^2 a_{ij} $\n",
    "\n",
    "And the Cohen's Kappa is defined as:\n",
    "\n",
    "$$ \\frac{P_o-P_e}{1-P_e} $$\n",
    "\n",
    "\n",
    "Where $P_o$ is the proportion of cases where both raters agree: \n",
    "\n",
    "\\begin{align}\n",
    "    P_o &= P(R_1=0 \\text{ and } R_2=0) + P(R_1=1 \\text{ and } R_2=1) \\\\\n",
    "    &= \\frac{a_{11} + a_{22}}{N}\n",
    "\\end{align}\n",
    "\n",
    "And this is the accuracy metric we are familiar with."
   ]
  },
  {
   "cell_type": "markdown",
   "metadata": {},
   "source": [
    "However, we want to penalize for the probability that the two raters rate randomly and agrees:\n",
    "\n",
    "\\begin{align}\n",
    "    P_e &= P(R_1=0)P(R_2=0) + P(R_1=1)P(R_2=1) \\\\\n",
    "    &= \\frac{a_{1\\cdot}}{N}\\times\\frac{a_{\\cdot1}}{N} + \\frac{a_{2\\cdot}}{N}\\times\\frac{a_{\\cdot2}}{N} \\\\\n",
    "    &= \\frac{1}{N^2}\\sum_{k=1}^ 2a_{\\cdot k}a_{k\\cdot}\n",
    "\\end{align}\n",
    "\n",
    "where\n",
    "\n",
    "\\begin{align}\n",
    "    & a_{i\\cdot} = \\sum_{j=1}^2 a_{ij} \\\\\n",
    "    & a_{\\cdot j}= \\sum_{i=1}^2 a_{ij}\n",
    "\\end{align}\n"
   ]
  },
  {
   "cell_type": "markdown",
   "metadata": {},
   "source": [
    "# Does Cohen's Kappa have a maximum/minimum?"
   ]
  },
  {
   "cell_type": "markdown",
   "metadata": {},
   "source": [
    "The interesting thing about Cohen's Kappa is that it has one more degree of freedom than the accuracy metric. As we can see from the confusion matrix, if we fix $a_{11}$ and $a_{22}$, then accuracy is fixed no matter how the mismatches are distributed across false positives (FPs) and false negatives (FNs). However, if we change $a_{12}$ ($a_{21}$ is determined when all of $a_{11}, a_{12}$ and $a_{22}$ are fixed since total number $N$ is fixed), cohen's kappa will change as a function of it. Let's see if there's a way to maximize/minimize this single variable function."
   ]
  },
  {
   "cell_type": "markdown",
   "metadata": {},
   "source": [
    "Firstly, let's assume that $N$, $a_{11}$ and $a_{22}$ are fixed, and let $x=a_{12}$. Then $a_{21} = N-a_{11}-a_{22}-x$:\n",
    "\n",
    "\n",
    " |`__________1__________`|`__________2__________`|`__________Total__________`\n",
    "---|---|---|---\n",
    "1|$a_{11}$|$x$|$N_{1\\cdot}=a_{11}+x$\n",
    "2|$N-a_{11}-a_{22}-x$|$a_{22}$|$N_{2\\cdot}=N-a_{11}-x$\n",
    "Total|$N_{\\cdot1}=N-a_{22}-x$|$N_{\\cdot2}=a_{22}+x$|$N$"
   ]
  },
  {
   "cell_type": "markdown",
   "metadata": {},
   "source": [
    "Now we can write kappa as a function of $x$:\n",
    "\n",
    "\\begin{align}\n",
    "    \\kappa(x) & = \\frac{P_o-P_e}{1-P_e}\\\\\n",
    "    & = \\frac{\\frac{a_{11} + a_{22}}{N} - \\frac{N_{1\\cdot}N_{\\cdot1} + N_{2\\cdot}N_{\\cdot2}}{N^2}}{1-\\frac{N_{1\\cdot}N_{\\cdot1} + N_{2\\cdot}N_{\\cdot2}}{N^2}} \\\\\n",
    "    & = \\frac{N(a_{11} + a_{22}) - (N_{1\\cdot}N_{\\cdot1} + N_{2\\cdot}N_{\\cdot2})}{N^2 - (N_{1\\cdot}N_{\\cdot1} + N_{2\\cdot}N_{\\cdot2})} \\\\\n",
    "\\end{align}"
   ]
  },
  {
   "cell_type": "markdown",
   "metadata": {},
   "source": [
    "Let's expand $N_{1\\cdot}N_{\\cdot1} + N_{2\\cdot}N_{\\cdot2}$:\n",
    "\n",
    "\\begin{align}\n",
    "    N_{1\\cdot}N_{\\cdot1} + N_{2\\cdot}N_{\\cdot2} & = (a_{11}+x)(N-a_{22}-x) + (N-a_{11}-x)(a_{22}+x) \\\\\n",
    "    & = Na_{11} - a_{11}a_{22} - a_{11}x + Nx - a_{22}x - x^2 + Na_{22} - a_{11}a_{22} - a_{22}x + Nx - a_{11}x - x^2 \\\\\n",
    "    & = N(a_{11} + a_{22}) - 2a_{11}a_{22} + 2(N-a_{11}-a_{22})x - 2x^2\n",
    "\\end{align}"
   ]
  },
  {
   "cell_type": "markdown",
   "metadata": {},
   "source": [
    "Now to simplify notations, we let:\n",
    "\n",
    "\\begin{align}\n",
    "    f(x) & = 2(N-a_{11}-a_{22})x - 2x^2 \\\\\n",
    "    C_1 & = N(a_{11} + a_{22}) \\\\\n",
    "    C_2 & = N^2 \\\\\n",
    "    C_3 & = N(a_{11} + a_{22}) - 2a_{11}a_{22}\n",
    "\\end{align}\n",
    "\n",
    "Then we have\n",
    "\n",
    "$$ N_{1\\cdot}N_{\\cdot1} + N_{2\\cdot}N_{\\cdot2} = C_3 + f(x) $$\n",
    "\n",
    "and\n",
    "\n",
    "$$ \\kappa(x) = \\frac{C_1 - C_3 - f(x)}{C_2 -C_3 - f(x)} $$"
   ]
  },
  {
   "cell_type": "markdown",
   "metadata": {},
   "source": [
    "Since $\\kappa(x)$ is a smooth function in $x$ for $0 \\le x \\le N-a_{11}-a_{22}$, we just need to calculate its first and second derivative with respect to $x$ to find its maximum."
   ]
  },
  {
   "cell_type": "markdown",
   "metadata": {},
   "source": [
    "\\begin{align}\n",
    "    \\frac{d}{dx}\\kappa(x) & = \\frac{-\\frac{d}{dx}f(x)\\big(C_2 -C_3 - f(x)\\big) - \\Big(-\\frac{d}{dx}f(x)\\big(C_1 - C_3 - f(x)\\big)\\Big)}{(C_2 -C_3 - f(x))^2} \\\\\n",
    "    & = \\frac{\\big(C_1 - C_2\\big)\\frac{d}{dx}f(x)}{(C_2 -C_3 - f(x))^2}\n",
    "\\end{align}\n",
    "\n",
    "By setting $\\frac{d}{dx}\\kappa(x)=0$, we have \n",
    "\n",
    "\\begin{align}\n",
    "    & \\big(C_1 - C_2\\big)\\frac{d}{dx}f(x) = 0 \\\\\n",
    "    \\implies & \\frac{d}{dx}f(x) = 0 \\\\\n",
    "    \\implies & 2(N-a_{11}-a_{22}) - 4x = 0 \\\\\n",
    "    \\implies & x = \\frac{1}{2}(N-a_{11}-a_{22})\n",
    "\\end{align}"
   ]
  },
  {
   "cell_type": "markdown",
   "metadata": {},
   "source": [
    "To check that whether this is a minimum or maximum, let's check its 2nd derivative:\n",
    "\n",
    "Note that $\\frac{d^2}{dx^2}f(x) = -4$\n",
    "\n",
    "\\begin{align}\n",
    "    \\frac{d^2}{{dx}^2}\\kappa(x) & = \\frac{d}{dx}\\frac{(C_1 - C_2)\\frac{d}{dx}f(x)}{(C_2 -C_3 - f(x))^2} \\\\\n",
    "    & = \\frac{(C_1 - C_2)\\frac{d^2}{dx^2}f(x)\\big(C_2 -C_3 - f(x)\\big)^2 - \\Big(2\\big(C_2 -C_3 - f(x)\\big)\\big(-\\frac{d}{dx}f(x)\\big)(C_1 - C_2)\\frac{d}{dx}f(x)\\Big)}{(C_2 -C_3 - f(x))^4} \\\\\n",
    "    & = -\\frac{4(C_1 - C_2)\\big(C_2 -C_3 - f(x)\\big)^2}{(C_2 -C_3 - f(x))^4} \n",
    "\\end{align}\n",
    "\n",
    "We ignored the whole second term on the numerator because we only care for the point where $\\frac{d}{dx}f(x) = 0$"
   ]
  },
  {
   "cell_type": "markdown",
   "metadata": {},
   "source": [
    "Note that $C_1 \\lt C_2$. Hence this point is indeed the minimum."
   ]
  },
  {
   "cell_type": "code",
   "execution_count": 8,
   "metadata": {},
   "outputs": [],
   "source": [
    "import numpy as np\n",
    "import matplotlib.pyplot as plt\n",
    "%matplotlib inline\n",
    "def kappa(N, a11, a22, x):\n",
    "    N1_ = a11 + x\n",
    "    N_1 = N - a22 - x\n",
    "    N2_ = N - a11 - x\n",
    "    N_2 = a22 + x\n",
    "    cross_sum = N1_*N_1 + N2_*N_2\n",
    "    kp = (N*(a11 + a22) - cross_sum)/(N**2 - cross_sum)\n",
    "    return kp"
   ]
  },
  {
   "cell_type": "code",
   "execution_count": 11,
   "metadata": {},
   "outputs": [
    {
     "data": {
      "image/png": "[encoded data removed]",
      "text/plain": [
       "<Figure size 432x288 with 1 Axes>"
      ]
     },
     "metadata": {},
     "output_type": "display_data"
    }
   ],
   "source": [
    "N = 1000\n",
    "a11 = 400\n",
    "a22 = 200\n",
    "x_max = N - a11 - a22\n",
    "d = np.arange(0, x_max, 0.01)\n",
    "k = kappa(N, a11, a22, d)\n",
    "\n",
    "plt.plot(d, k)\n",
    "plt.show()"
   ]
  },
  {
   "cell_type": "markdown",
   "metadata": {},
   "source": [
    "# Another interesting question\n",
    "Suppose raters 1 and 2 are equally accurate, but they are trained on samples with different class proportions, is it possible for rater 2 to maximize Cohen's Kappa?"
   ]
  },
  {
   "cell_type": "code",
   "execution_count": null,
   "metadata": {},
   "outputs": [],
   "source": []
  }
 ],
 "metadata": {
  "kernelspec": {
   "display_name": "Python 3",
   "language": "python",
   "name": "python3"
  },
  "language_info": {
   "codemirror_mode": {
    "name": "ipython",
    "version": 3
   },
   "file_extension": ".py",
   "mimetype": "text/x-python",
   "name": "python",
   "nbconvert_exporter": "python",
   "pygments_lexer": "ipython3",
   "version": "3.6.1"
  }
 },
 "nbformat": 4,
 "nbformat_minor": 2
}
